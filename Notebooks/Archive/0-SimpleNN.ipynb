{
 "cells": [
  {
   "cell_type": "code",
   "execution_count": 1,
   "metadata": {},
   "outputs": [],
   "source": [
    "import numpy as np\n",
    "import matplotlib.pyplot as plt\n",
    "import pandas as pd\n",
    "import seaborn as sns\n",
    "\n",
    "import tensorflow as tf\n",
    "physical_devices = tf.config.list_physical_devices('GPU')\n",
    "tf.config.experimental.set_memory_growth(physical_devices[0], enable=True)"
   ]
  },
  {
   "cell_type": "code",
   "execution_count": 2,
   "metadata": {},
   "outputs": [],
   "source": [
    "data = pd.read_csv(\"glove_emg1.csv\")"
   ]
  },
  {
   "cell_type": "code",
   "execution_count": 3,
   "metadata": {},
   "outputs": [
    {
     "data": {
      "text/html": [
       "<div>\n",
       "<style scoped>\n",
       "    .dataframe tbody tr th:only-of-type {\n",
       "        vertical-align: middle;\n",
       "    }\n",
       "\n",
       "    .dataframe tbody tr th {\n",
       "        vertical-align: top;\n",
       "    }\n",
       "\n",
       "    .dataframe thead th {\n",
       "        text-align: right;\n",
       "    }\n",
       "</style>\n",
       "<table border=\"1\" class=\"dataframe\">\n",
       "  <thead>\n",
       "    <tr style=\"text-align: right;\">\n",
       "      <th></th>\n",
       "      <th>Channel_1</th>\n",
       "      <th>Channel_2</th>\n",
       "      <th>Channel_3</th>\n",
       "      <th>Channel_4</th>\n",
       "      <th>Channel_5</th>\n",
       "      <th>Channel_6</th>\n",
       "      <th>Channel_7</th>\n",
       "      <th>Channel_8</th>\n",
       "      <th>Thumb</th>\n",
       "      <th>Index</th>\n",
       "      <th>Middle</th>\n",
       "      <th>Ring</th>\n",
       "      <th>Pinky</th>\n",
       "    </tr>\n",
       "  </thead>\n",
       "  <tbody>\n",
       "    <tr>\n",
       "      <th>0</th>\n",
       "      <td>0</td>\n",
       "      <td>-1</td>\n",
       "      <td>-5</td>\n",
       "      <td>-4</td>\n",
       "      <td>3</td>\n",
       "      <td>7</td>\n",
       "      <td>3</td>\n",
       "      <td>1</td>\n",
       "      <td>0</td>\n",
       "      <td>1</td>\n",
       "      <td>2</td>\n",
       "      <td>3</td>\n",
       "      <td>4</td>\n",
       "    </tr>\n",
       "    <tr>\n",
       "      <th>1</th>\n",
       "      <td>0</td>\n",
       "      <td>-3</td>\n",
       "      <td>0</td>\n",
       "      <td>2</td>\n",
       "      <td>-3</td>\n",
       "      <td>1</td>\n",
       "      <td>0</td>\n",
       "      <td>0</td>\n",
       "      <td>0</td>\n",
       "      <td>1</td>\n",
       "      <td>2</td>\n",
       "      <td>3</td>\n",
       "      <td>4</td>\n",
       "    </tr>\n",
       "    <tr>\n",
       "      <th>2</th>\n",
       "      <td>-2</td>\n",
       "      <td>-2</td>\n",
       "      <td>-2</td>\n",
       "      <td>-3</td>\n",
       "      <td>-4</td>\n",
       "      <td>-9</td>\n",
       "      <td>-4</td>\n",
       "      <td>-2</td>\n",
       "      <td>0</td>\n",
       "      <td>1</td>\n",
       "      <td>2</td>\n",
       "      <td>3</td>\n",
       "      <td>4</td>\n",
       "    </tr>\n",
       "    <tr>\n",
       "      <th>3</th>\n",
       "      <td>-1</td>\n",
       "      <td>0</td>\n",
       "      <td>-4</td>\n",
       "      <td>-2</td>\n",
       "      <td>1</td>\n",
       "      <td>0</td>\n",
       "      <td>0</td>\n",
       "      <td>-1</td>\n",
       "      <td>0</td>\n",
       "      <td>1</td>\n",
       "      <td>2</td>\n",
       "      <td>3</td>\n",
       "      <td>4</td>\n",
       "    </tr>\n",
       "    <tr>\n",
       "      <th>4</th>\n",
       "      <td>1</td>\n",
       "      <td>3</td>\n",
       "      <td>6</td>\n",
       "      <td>1</td>\n",
       "      <td>2</td>\n",
       "      <td>-1</td>\n",
       "      <td>-1</td>\n",
       "      <td>-2</td>\n",
       "      <td>0</td>\n",
       "      <td>1</td>\n",
       "      <td>2</td>\n",
       "      <td>3</td>\n",
       "      <td>4</td>\n",
       "    </tr>\n",
       "  </tbody>\n",
       "</table>\n",
       "</div>"
      ],
      "text/plain": [
       "   Channel_1  Channel_2  Channel_3  Channel_4  Channel_5  Channel_6  \\\n",
       "0          0         -1         -5         -4          3          7   \n",
       "1          0         -3          0          2         -3          1   \n",
       "2         -2         -2         -2         -3         -4         -9   \n",
       "3         -1          0         -4         -2          1          0   \n",
       "4          1          3          6          1          2         -1   \n",
       "\n",
       "   Channel_7  Channel_8  Thumb  Index  Middle  Ring  Pinky  \n",
       "0          3          1      0      1       2     3      4  \n",
       "1          0          0      0      1       2     3      4  \n",
       "2         -4         -2      0      1       2     3      4  \n",
       "3          0         -1      0      1       2     3      4  \n",
       "4         -1         -2      0      1       2     3      4  "
      ]
     },
     "execution_count": 3,
     "metadata": {},
     "output_type": "execute_result"
    }
   ],
   "source": [
    "data.head()"
   ]
  },
  {
   "cell_type": "code",
   "execution_count": 4,
   "metadata": {},
   "outputs": [],
   "source": [
    "finger_names = ['Thumb', 'Index', 'Middle', 'Ring', 'Pinky']\n",
    "myo_cols = [\"Channel_1\", \"Channel_2\", \"Channel_3\", \"Channel_4\", \"Channel_5\", \"Channel_6\", \"Channel_7\", \"Channel_8\"]"
   ]
  },
  {
   "cell_type": "code",
   "execution_count": 5,
   "metadata": {},
   "outputs": [],
   "source": [
    "df = data.copy(deep=True)"
   ]
  },
  {
   "cell_type": "code",
   "execution_count": 6,
   "metadata": {},
   "outputs": [
    {
     "data": {
      "text/plain": [
       "<AxesSubplot:>"
      ]
     },
     "execution_count": 6,
     "metadata": {},
     "output_type": "execute_result"
    },
    {
     "data": {
      "image/png": "[encoded data removed]",
      "text/plain": [
       "<Figure size 432x288 with 1 Axes>"
      ]
     },
     "metadata": {
      "needs_background": "light"
     },
     "output_type": "display_data"
    }
   ],
   "source": [
    "df[finger_names].plot()"
   ]
  },
  {
   "cell_type": "code",
   "execution_count": 7,
   "metadata": {},
   "outputs": [
    {
     "data": {
      "text/plain": [
       "<AxesSubplot:>"
      ]
     },
     "execution_count": 7,
     "metadata": {},
     "output_type": "execute_result"
    },
    {
     "data": {
      "image/png": "[encoded data removed]",
      "text/plain": [
       "<Figure size 432x288 with 1 Axes>"
      ]
     },
     "metadata": {
      "needs_background": "light"
     },
     "output_type": "display_data"
    }
   ],
   "source": [
    "df[myo_cols].plot()"
   ]
  },
  {
   "cell_type": "code",
   "execution_count": 8,
   "metadata": {},
   "outputs": [
    {
     "name": "stdout",
     "output_type": "stream",
     "text": [
      "Correlation Matrix\n",
      "\n",
      "Top Absolute Correlations\n",
      "Middle     Ring         0.766536\n",
      "Thumb      Middle       0.747582\n",
      "Channel_1  Channel_8    0.699846\n",
      "Middle     Pinky        0.692025\n",
      "Ring       Pinky        0.673060\n",
      "Channel_3  Channel_4    0.619397\n",
      "Channel_1  Channel_2    0.612738\n",
      "Channel_6  Channel_7    0.592636\n",
      "Index      Middle       0.588362\n",
      "Channel_5  Channel_6    0.578235\n",
      "dtype: float64\n"
     ]
    }
   ],
   "source": [
    "print(\"Correlation Matrix\")\n",
    "print()\n",
    "\n",
    "def get_redundant_pairs(df):\n",
    "    '''Get diagonal and lower triangular pairs of correlation matrix'''\n",
    "    pairs_to_drop = set()\n",
    "    cols = df.columns\n",
    "    for i in range(0, df.shape[1]):\n",
    "        for j in range(0, i+1):\n",
    "            pairs_to_drop.add((cols[i], cols[j]))\n",
    "    return pairs_to_drop\n",
    "\n",
    "def get_top_abs_correlations(df, n=5):\n",
    "    au_corr = df.corr().abs().unstack()\n",
    "    labels_to_drop = get_redundant_pairs(df)\n",
    "    au_corr = au_corr.drop(labels=labels_to_drop).sort_values(ascending=False)\n",
    "    return au_corr[0:n]\n",
    "\n",
    "print(\"Top Absolute Correlations\")\n",
    "print(get_top_abs_correlations(df, 10))"
   ]
  },
  {
   "cell_type": "markdown",
   "metadata": {},
   "source": [
    "# Making a full hand baseline"
   ]
  },
  {
   "cell_type": "code",
   "execution_count": 9,
   "metadata": {},
   "outputs": [
    {
     "name": "stdout",
     "output_type": "stream",
     "text": [
      "Train RMSE: 324.244810\n",
      "Train MAE: 267.728299\n",
      "Test RMSE: 322.760607\n",
      "Test MAE: 267.104992\n"
     ]
    },
    {
     "data": {
      "text/plain": [
       "-0.042935612702566184"
      ]
     },
     "execution_count": 9,
     "metadata": {},
     "output_type": "execute_result"
    }
   ],
   "source": [
    "from sklearn.model_selection import train_test_split\n",
    "from sklearn.metrics import mean_absolute_error\n",
    "from sklearn.metrics import mean_squared_error\n",
    "from sklearn.metrics import r2_score\n",
    "\n",
    "x_cols = ['Channel_1', 'Channel_2', 'Channel_3', 'Channel_4', 'Channel_5',\n",
    "       'Channel_6', 'Channel_7', 'Channel_8']\n",
    "\n",
    "X = df[x_cols]\n",
    "y = df.drop(x_cols,1)\n",
    "\n",
    "train_X, test_X, train_y, test_y = train_test_split(X.to_numpy(), y.to_numpy(), test_size=0.25)\n",
    "\n",
    "# Making our benchmark model\n",
    "# Just predict the mean average number of bikes. \n",
    "y_train_mean = train_y.mean()\n",
    "\n",
    "train_preds = np.ones(train_y.shape) * y_train_mean\n",
    "preds = np.ones(test_y.shape) * y_train_mean\n",
    "\n",
    "rmse = np.sqrt(mean_squared_error(train_y, train_preds))\n",
    "print(\"Train RMSE: %f\" % (rmse))\n",
    "\n",
    "mae = mean_absolute_error(train_y, train_preds)\n",
    "print(\"Train MAE: %f\" % (mae))\n",
    "\n",
    "rmse = np.sqrt(mean_squared_error(test_y, preds))\n",
    "print(\"Test RMSE: %f\" % (rmse))\n",
    "\n",
    "mae = mean_absolute_error(test_y, preds)\n",
    "print(\"Test MAE: %f\" % (mae))\n",
    "\n",
    "r2_score(test_y, preds)"
   ]
  },
  {
   "cell_type": "code",
   "execution_count": 10,
   "metadata": {},
   "outputs": [
    {
     "data": {
      "text/html": [
       "<div>\n",
       "<style scoped>\n",
       "    .dataframe tbody tr th:only-of-type {\n",
       "        vertical-align: middle;\n",
       "    }\n",
       "\n",
       "    .dataframe tbody tr th {\n",
       "        vertical-align: top;\n",
       "    }\n",
       "\n",
       "    .dataframe thead th {\n",
       "        text-align: right;\n",
       "    }\n",
       "</style>\n",
       "<table border=\"1\" class=\"dataframe\">\n",
       "  <thead>\n",
       "    <tr style=\"text-align: right;\">\n",
       "      <th></th>\n",
       "      <th>Channel_1</th>\n",
       "      <th>Channel_2</th>\n",
       "      <th>Channel_3</th>\n",
       "      <th>Channel_4</th>\n",
       "      <th>Channel_5</th>\n",
       "      <th>Channel_6</th>\n",
       "      <th>Channel_7</th>\n",
       "      <th>Channel_8</th>\n",
       "    </tr>\n",
       "  </thead>\n",
       "  <tbody>\n",
       "    <tr>\n",
       "      <th>0</th>\n",
       "      <td>0</td>\n",
       "      <td>-1</td>\n",
       "      <td>-5</td>\n",
       "      <td>-4</td>\n",
       "      <td>3</td>\n",
       "      <td>7</td>\n",
       "      <td>3</td>\n",
       "      <td>1</td>\n",
       "    </tr>\n",
       "    <tr>\n",
       "      <th>1</th>\n",
       "      <td>0</td>\n",
       "      <td>-3</td>\n",
       "      <td>0</td>\n",
       "      <td>2</td>\n",
       "      <td>-3</td>\n",
       "      <td>1</td>\n",
       "      <td>0</td>\n",
       "      <td>0</td>\n",
       "    </tr>\n",
       "    <tr>\n",
       "      <th>2</th>\n",
       "      <td>-2</td>\n",
       "      <td>-2</td>\n",
       "      <td>-2</td>\n",
       "      <td>-3</td>\n",
       "      <td>-4</td>\n",
       "      <td>-9</td>\n",
       "      <td>-4</td>\n",
       "      <td>-2</td>\n",
       "    </tr>\n",
       "    <tr>\n",
       "      <th>3</th>\n",
       "      <td>-1</td>\n",
       "      <td>0</td>\n",
       "      <td>-4</td>\n",
       "      <td>-2</td>\n",
       "      <td>1</td>\n",
       "      <td>0</td>\n",
       "      <td>0</td>\n",
       "      <td>-1</td>\n",
       "    </tr>\n",
       "    <tr>\n",
       "      <th>4</th>\n",
       "      <td>1</td>\n",
       "      <td>3</td>\n",
       "      <td>6</td>\n",
       "      <td>1</td>\n",
       "      <td>2</td>\n",
       "      <td>-1</td>\n",
       "      <td>-1</td>\n",
       "      <td>-2</td>\n",
       "    </tr>\n",
       "    <tr>\n",
       "      <th>...</th>\n",
       "      <td>...</td>\n",
       "      <td>...</td>\n",
       "      <td>...</td>\n",
       "      <td>...</td>\n",
       "      <td>...</td>\n",
       "      <td>...</td>\n",
       "      <td>...</td>\n",
       "      <td>...</td>\n",
       "    </tr>\n",
       "    <tr>\n",
       "      <th>2545</th>\n",
       "      <td>2</td>\n",
       "      <td>8</td>\n",
       "      <td>19</td>\n",
       "      <td>8</td>\n",
       "      <td>1</td>\n",
       "      <td>1</td>\n",
       "      <td>0</td>\n",
       "      <td>1</td>\n",
       "    </tr>\n",
       "    <tr>\n",
       "      <th>2546</th>\n",
       "      <td>-6</td>\n",
       "      <td>-17</td>\n",
       "      <td>11</td>\n",
       "      <td>5</td>\n",
       "      <td>-4</td>\n",
       "      <td>-3</td>\n",
       "      <td>-3</td>\n",
       "      <td>-3</td>\n",
       "    </tr>\n",
       "    <tr>\n",
       "      <th>2547</th>\n",
       "      <td>-2</td>\n",
       "      <td>2</td>\n",
       "      <td>-38</td>\n",
       "      <td>-9</td>\n",
       "      <td>-6</td>\n",
       "      <td>-2</td>\n",
       "      <td>-3</td>\n",
       "      <td>-3</td>\n",
       "    </tr>\n",
       "    <tr>\n",
       "      <th>2548</th>\n",
       "      <td>4</td>\n",
       "      <td>18</td>\n",
       "      <td>14</td>\n",
       "      <td>-16</td>\n",
       "      <td>1</td>\n",
       "      <td>1</td>\n",
       "      <td>-2</td>\n",
       "      <td>0</td>\n",
       "    </tr>\n",
       "    <tr>\n",
       "      <th>2549</th>\n",
       "      <td>-2</td>\n",
       "      <td>-8</td>\n",
       "      <td>-4</td>\n",
       "      <td>1</td>\n",
       "      <td>-1</td>\n",
       "      <td>-4</td>\n",
       "      <td>-2</td>\n",
       "      <td>-2</td>\n",
       "    </tr>\n",
       "  </tbody>\n",
       "</table>\n",
       "<p>2550 rows × 8 columns</p>\n",
       "</div>"
      ],
      "text/plain": [
       "      Channel_1  Channel_2  Channel_3  Channel_4  Channel_5  Channel_6  \\\n",
       "0             0         -1         -5         -4          3          7   \n",
       "1             0         -3          0          2         -3          1   \n",
       "2            -2         -2         -2         -3         -4         -9   \n",
       "3            -1          0         -4         -2          1          0   \n",
       "4             1          3          6          1          2         -1   \n",
       "...         ...        ...        ...        ...        ...        ...   \n",
       "2545          2          8         19          8          1          1   \n",
       "2546         -6        -17         11          5         -4         -3   \n",
       "2547         -2          2        -38         -9         -6         -2   \n",
       "2548          4         18         14        -16          1          1   \n",
       "2549         -2         -8         -4          1         -1         -4   \n",
       "\n",
       "      Channel_7  Channel_8  \n",
       "0             3          1  \n",
       "1             0          0  \n",
       "2            -4         -2  \n",
       "3             0         -1  \n",
       "4            -1         -2  \n",
       "...         ...        ...  \n",
       "2545          0          1  \n",
       "2546         -3         -3  \n",
       "2547         -3         -3  \n",
       "2548         -2          0  \n",
       "2549         -2         -2  \n",
       "\n",
       "[2550 rows x 8 columns]"
      ]
     },
     "execution_count": 10,
     "metadata": {},
     "output_type": "execute_result"
    }
   ],
   "source": [
    "X"
   ]
  },
  {
   "cell_type": "code",
   "execution_count": 11,
   "metadata": {},
   "outputs": [
    {
     "data": {
      "text/html": [
       "<div>\n",
       "<style scoped>\n",
       "    .dataframe tbody tr th:only-of-type {\n",
       "        vertical-align: middle;\n",
       "    }\n",
       "\n",
       "    .dataframe tbody tr th {\n",
       "        vertical-align: top;\n",
       "    }\n",
       "\n",
       "    .dataframe thead th {\n",
       "        text-align: right;\n",
       "    }\n",
       "</style>\n",
       "<table border=\"1\" class=\"dataframe\">\n",
       "  <thead>\n",
       "    <tr style=\"text-align: right;\">\n",
       "      <th></th>\n",
       "      <th>Thumb</th>\n",
       "      <th>Index</th>\n",
       "      <th>Middle</th>\n",
       "      <th>Ring</th>\n",
       "      <th>Pinky</th>\n",
       "    </tr>\n",
       "  </thead>\n",
       "  <tbody>\n",
       "    <tr>\n",
       "      <th>0</th>\n",
       "      <td>0</td>\n",
       "      <td>1</td>\n",
       "      <td>2</td>\n",
       "      <td>3</td>\n",
       "      <td>4</td>\n",
       "    </tr>\n",
       "    <tr>\n",
       "      <th>1</th>\n",
       "      <td>0</td>\n",
       "      <td>1</td>\n",
       "      <td>2</td>\n",
       "      <td>3</td>\n",
       "      <td>4</td>\n",
       "    </tr>\n",
       "    <tr>\n",
       "      <th>2</th>\n",
       "      <td>0</td>\n",
       "      <td>1</td>\n",
       "      <td>2</td>\n",
       "      <td>3</td>\n",
       "      <td>4</td>\n",
       "    </tr>\n",
       "    <tr>\n",
       "      <th>3</th>\n",
       "      <td>0</td>\n",
       "      <td>1</td>\n",
       "      <td>2</td>\n",
       "      <td>3</td>\n",
       "      <td>4</td>\n",
       "    </tr>\n",
       "    <tr>\n",
       "      <th>4</th>\n",
       "      <td>0</td>\n",
       "      <td>1</td>\n",
       "      <td>2</td>\n",
       "      <td>3</td>\n",
       "      <td>4</td>\n",
       "    </tr>\n",
       "    <tr>\n",
       "      <th>...</th>\n",
       "      <td>...</td>\n",
       "      <td>...</td>\n",
       "      <td>...</td>\n",
       "      <td>...</td>\n",
       "      <td>...</td>\n",
       "    </tr>\n",
       "    <tr>\n",
       "      <th>2545</th>\n",
       "      <td>449</td>\n",
       "      <td>126</td>\n",
       "      <td>0</td>\n",
       "      <td>73</td>\n",
       "      <td>12</td>\n",
       "    </tr>\n",
       "    <tr>\n",
       "      <th>2546</th>\n",
       "      <td>449</td>\n",
       "      <td>126</td>\n",
       "      <td>0</td>\n",
       "      <td>73</td>\n",
       "      <td>12</td>\n",
       "    </tr>\n",
       "    <tr>\n",
       "      <th>2547</th>\n",
       "      <td>449</td>\n",
       "      <td>126</td>\n",
       "      <td>0</td>\n",
       "      <td>75</td>\n",
       "      <td>15</td>\n",
       "    </tr>\n",
       "    <tr>\n",
       "      <th>2548</th>\n",
       "      <td>449</td>\n",
       "      <td>126</td>\n",
       "      <td>0</td>\n",
       "      <td>75</td>\n",
       "      <td>15</td>\n",
       "    </tr>\n",
       "    <tr>\n",
       "      <th>2549</th>\n",
       "      <td>449</td>\n",
       "      <td>129</td>\n",
       "      <td>0</td>\n",
       "      <td>75</td>\n",
       "      <td>15</td>\n",
       "    </tr>\n",
       "  </tbody>\n",
       "</table>\n",
       "<p>2550 rows × 5 columns</p>\n",
       "</div>"
      ],
      "text/plain": [
       "      Thumb  Index  Middle  Ring  Pinky\n",
       "0         0      1       2     3      4\n",
       "1         0      1       2     3      4\n",
       "2         0      1       2     3      4\n",
       "3         0      1       2     3      4\n",
       "4         0      1       2     3      4\n",
       "...     ...    ...     ...   ...    ...\n",
       "2545    449    126       0    73     12\n",
       "2546    449    126       0    73     12\n",
       "2547    449    126       0    75     15\n",
       "2548    449    126       0    75     15\n",
       "2549    449    129       0    75     15\n",
       "\n",
       "[2550 rows x 5 columns]"
      ]
     },
     "execution_count": 11,
     "metadata": {},
     "output_type": "execute_result"
    }
   ],
   "source": [
    "y"
   ]
  },
  {
   "cell_type": "markdown",
   "metadata": {},
   "source": [
    "# Making a baseline Neural Network"
   ]
  },
  {
   "cell_type": "code",
   "execution_count": 12,
   "metadata": {},
   "outputs": [],
   "source": [
    "from sklearn.model_selection import train_test_split\n",
    "from keras.models import Sequential\n",
    "from keras.layers import Dense, Activation, Flatten\n",
    "\n",
    "from sklearn.preprocessing import MinMaxScaler, StandardScaler\n",
    "\n",
    "from sklearn.metrics import mean_absolute_error\n",
    "from sklearn.metrics import mean_squared_error"
   ]
  },
  {
   "cell_type": "code",
   "execution_count": 140,
   "metadata": {},
   "outputs": [],
   "source": [
    "finger_names = ['Thumb', 'Index', 'Middle', 'Ring', 'Pinky']\n",
    "myo_cols = [\"Channel_1\", \"Channel_2\", \"Channel_3\", \"Channel_4\", \"Channel_5\", \"Channel_6\", \"Channel_7\", \"Channel_8\"]\n",
    "x_cols = myo_cols\n",
    "y_cols = finger_names\n",
    "\n",
    "df = pd.read_csv(\"glove_emg1.csv\")\n",
    "\n",
    "# Get rid of the first garbage readings\n",
    "df = df.iloc[50:]\n",
    "\n",
    "# Rectification\n",
    "X = abs(df[x_cols]).values\n",
    "y = df.drop(x_cols,1).values\n",
    "\n",
    "# Scaling\n",
    "X = X/128\n",
    "y = y/1024\n",
    "\n",
    "train_X, test_X, train_y, test_y = train_test_split(X, y, test_size=0.25)"
   ]
  },
  {
   "cell_type": "code",
   "execution_count": 141,
   "metadata": {},
   "outputs": [
    {
     "name": "stdout",
     "output_type": "stream",
     "text": [
      "Model: \"sequential_4\"\n",
      "_________________________________________________________________\n",
      "Layer (type)                 Output Shape              Param #   \n",
      "=================================================================\n",
      "dense_16 (Dense)             (None, 16)                144       \n",
      "_________________________________________________________________\n",
      "dense_17 (Dense)             (None, 32)                544       \n",
      "_________________________________________________________________\n",
      "dense_18 (Dense)             (None, 64)                2112      \n",
      "_________________________________________________________________\n",
      "dense_19 (Dense)             (None, 5)                 325       \n",
      "=================================================================\n",
      "Total params: 3,125\n",
      "Trainable params: 3,125\n",
      "Non-trainable params: 0\n",
      "_________________________________________________________________\n"
     ]
    }
   ],
   "source": [
    "model = Sequential()\n",
    "\n",
    "# The Input Layer :\n",
    "model.add(Dense(16,input_dim = train_X.shape[1], activation='relu'))\n",
    "\n",
    "# The Hidden Layers :\n",
    "model.add(Dense(32,activation='relu'))\n",
    "model.add(Dense(64,activation='relu'))\n",
    "\n",
    "# The Output Layer :\n",
    "model.add(Dense(5,activation='relu'))\n",
    "\n",
    "# Compile the network :\n",
    "model.compile(loss='mse', optimizer='Adam')\n",
    "model.summary()"
   ]
  },
  {
   "cell_type": "code",
   "execution_count": 142,
   "metadata": {
    "scrolled": true
   },
   "outputs": [
    {
     "name": "stdout",
     "output_type": "stream",
     "text": [
      "Epoch 1/20\n",
      "59/59 [==============================] - 1s 6ms/step - loss: 0.1379 - val_loss: 0.1182\n",
      "Epoch 2/20\n",
      "59/59 [==============================] - 0s 3ms/step - loss: 0.1180 - val_loss: 0.0934\n",
      "Epoch 3/20\n",
      "59/59 [==============================] - 0s 3ms/step - loss: 0.0917 - val_loss: 0.0918\n",
      "Epoch 4/20\n",
      "59/59 [==============================] - 0s 3ms/step - loss: 0.0942 - val_loss: 0.0920\n",
      "Epoch 5/20\n",
      "59/59 [==============================] - 0s 3ms/step - loss: 0.0953 - val_loss: 0.0912\n",
      "Epoch 6/20\n",
      "59/59 [==============================] - 0s 3ms/step - loss: 0.0913 - val_loss: 0.0914\n",
      "Epoch 7/20\n",
      "59/59 [==============================] - 0s 3ms/step - loss: 0.0910 - val_loss: 0.0915\n",
      "Epoch 8/20\n",
      "59/59 [==============================] - 0s 3ms/step - loss: 0.0951 - val_loss: 0.0912\n",
      "Epoch 9/20\n",
      "59/59 [==============================] - 0s 3ms/step - loss: 0.0893 - val_loss: 0.0911\n",
      "Epoch 10/20\n",
      "59/59 [==============================] - 0s 3ms/step - loss: 0.0887 - val_loss: 0.0912\n",
      "Epoch 11/20\n",
      "59/59 [==============================] - 0s 3ms/step - loss: 0.0931 - val_loss: 0.0911\n",
      "Epoch 12/20\n",
      "59/59 [==============================] - 0s 3ms/step - loss: 0.0928 - val_loss: 0.0912\n",
      "Epoch 13/20\n",
      "59/59 [==============================] - 0s 3ms/step - loss: 0.0949 - val_loss: 0.0910\n",
      "Epoch 14/20\n",
      "59/59 [==============================] - 0s 3ms/step - loss: 0.0958 - val_loss: 0.0925\n",
      "Epoch 15/20\n",
      "59/59 [==============================] - 0s 3ms/step - loss: 0.0891 - val_loss: 0.0911\n",
      "Epoch 16/20\n",
      "59/59 [==============================] - 0s 3ms/step - loss: 0.0922 - val_loss: 0.0912\n",
      "Epoch 17/20\n",
      "59/59 [==============================] - 0s 3ms/step - loss: 0.0848 - val_loss: 0.0932\n",
      "Epoch 18/20\n",
      "59/59 [==============================] - 0s 3ms/step - loss: 0.0956 - val_loss: 0.0912\n",
      "Epoch 19/20\n",
      "59/59 [==============================] - 0s 3ms/step - loss: 0.0940 - val_loss: 0.0910\n",
      "Epoch 20/20\n",
      "59/59 [==============================] - 0s 3ms/step - loss: 0.0924 - val_loss: 0.0910\n"
     ]
    }
   ],
   "source": [
    "history = model.fit(train_X, train_y, epochs=20, batch_size=32, validation_data=(test_X, test_y))"
   ]
  },
  {
   "cell_type": "code",
   "execution_count": 143,
   "metadata": {},
   "outputs": [
    {
     "name": "stdout",
     "output_type": "stream",
     "text": [
      "20/20 [==============================] - 0s 1ms/step - loss: 0.0910\n"
     ]
    },
    {
     "data": {
      "text/plain": [
       "0.0910358801484108"
      ]
     },
     "execution_count": 143,
     "metadata": {},
     "output_type": "execute_result"
    }
   ],
   "source": [
    "# Evaluate the model on the test data\n",
    "mse = model.evaluate(test_X, test_y)\n",
    "mse"
   ]
  },
  {
   "cell_type": "markdown",
   "metadata": {},
   "source": [
    "Note that using wrist as the rel_point gives 0.10, which was a lower loss than using the palm"
   ]
  },
  {
   "cell_type": "code",
   "execution_count": 144,
   "metadata": {},
   "outputs": [
    {
     "data": {
      "image/png": "[encoded data removed]",
      "text/plain": [
       "<Figure size 432x288 with 1 Axes>"
      ]
     },
     "metadata": {
      "needs_background": "light"
     },
     "output_type": "display_data"
    }
   ],
   "source": [
    "# summarize history for loss\n",
    "%matplotlib inline\n",
    "plt.plot(history.history['loss'])\n",
    "plt.plot(history.history['val_loss'])\n",
    "plt.title('model MSE')\n",
    "plt.ylabel('mse')\n",
    "plt.xlabel('epoch')\n",
    "plt.legend(['train', 'test'], loc='upper left')\n",
    "plt.show()"
   ]
  },
  {
   "cell_type": "code",
   "execution_count": 145,
   "metadata": {},
   "outputs": [
    {
     "name": "stdout",
     "output_type": "stream",
     "text": [
      "Train MSE:  95575.40763044944\n",
      "Train RMSE:  309.1527254132647\n",
      "Train MAE:  246.62612197713216\n",
      "\n",
      "Test MSE:  95458.03590014974\n",
      "Test RMSE:  308.962839027851\n",
      "Test MAE:  245.70157350097656\n"
     ]
    }
   ],
   "source": [
    "# Training Set\n",
    "train_preds = model.predict(train_X) # scaled inputs here\n",
    "\n",
    "# Scaling back the prediction\n",
    "train_preds = train_preds * 1024\n",
    "# Scaling back the goals\n",
    "train_goal = train_y * 1024\n",
    "\n",
    "MSE = mean_squared_error(train_goal, train_preds)  # first 2 steps, combined\n",
    "print(\"Train MSE: \", MSE)\n",
    "print(\"Train RMSE: \", np.sqrt(MSE))  # 3rd step\n",
    "MAE = mean_absolute_error(train_goal, train_preds)\n",
    "print(\"Train MAE: \", MAE)\n",
    "\n",
    "print()\n",
    "# Test Set\n",
    "test_preds = model.predict(test_X) # scaled inputs here\n",
    "\n",
    "# Scaling back the prediction\n",
    "test_preds = test_preds * 1024\n",
    "# Scaling back the goals\n",
    "test_goal = test_y * 1024\n",
    "\n",
    "MSE = mean_squared_error(test_goal, test_preds)  # first 2 steps, combined\n",
    "print(\"Test MSE: \", MSE)\n",
    "print(\"Test RMSE: \", np.sqrt(MSE))  # 3rd step\n",
    "MAE = mean_absolute_error(test_goal, test_preds)\n",
    "print(\"Test MAE: \", MAE)"
   ]
  },
  {
   "cell_type": "code",
   "execution_count": 146,
   "metadata": {},
   "outputs": [],
   "source": [
    "train_preds_df = pd.DataFrame(train_preds, columns=y_cols)\n",
    "train_goals_df = pd.DataFrame(train_goal, columns=y_cols)"
   ]
  },
  {
   "cell_type": "markdown",
   "metadata": {},
   "source": [
    "# Plot the predicted vs ground truth"
   ]
  },
  {
   "cell_type": "code",
   "execution_count": 155,
   "metadata": {},
   "outputs": [],
   "source": [
    "y_cols_pred = []\n",
    "for i in y_cols:\n",
    "    y_cols_pred.append(i+\"_pred\")\n",
    "    \n",
    "preds = pd.DataFrame(train_preds, columns=y_cols_pred)\n",
    "goal = pd.DataFrame(train_goal, columns=y_cols)\n",
    "vis = pd.concat([preds, goal], axis=1)"
   ]
  },
  {
   "cell_type": "code",
   "execution_count": 156,
   "metadata": {},
   "outputs": [
    {
     "data": {
      "text/html": [
       "<div>\n",
       "<style scoped>\n",
       "    .dataframe tbody tr th:only-of-type {\n",
       "        vertical-align: middle;\n",
       "    }\n",
       "\n",
       "    .dataframe tbody tr th {\n",
       "        vertical-align: top;\n",
       "    }\n",
       "\n",
       "    .dataframe thead th {\n",
       "        text-align: right;\n",
       "    }\n",
       "</style>\n",
       "<table border=\"1\" class=\"dataframe\">\n",
       "  <thead>\n",
       "    <tr style=\"text-align: right;\">\n",
       "      <th></th>\n",
       "      <th>Thumb_pred</th>\n",
       "      <th>Index_pred</th>\n",
       "      <th>Middle_pred</th>\n",
       "      <th>Ring_pred</th>\n",
       "      <th>Pinky_pred</th>\n",
       "      <th>Thumb</th>\n",
       "      <th>Index</th>\n",
       "      <th>Middle</th>\n",
       "      <th>Ring</th>\n",
       "      <th>Pinky</th>\n",
       "    </tr>\n",
       "  </thead>\n",
       "  <tbody>\n",
       "    <tr>\n",
       "      <th>0</th>\n",
       "      <td>284.195435</td>\n",
       "      <td>397.246002</td>\n",
       "      <td>206.623672</td>\n",
       "      <td>362.777588</td>\n",
       "      <td>248.025436</td>\n",
       "      <td>1023.0</td>\n",
       "      <td>660.0</td>\n",
       "      <td>511.0</td>\n",
       "      <td>1023.0</td>\n",
       "      <td>1023.0</td>\n",
       "    </tr>\n",
       "    <tr>\n",
       "      <th>1</th>\n",
       "      <td>277.905487</td>\n",
       "      <td>387.711273</td>\n",
       "      <td>204.387131</td>\n",
       "      <td>363.140656</td>\n",
       "      <td>247.441376</td>\n",
       "      <td>30.0</td>\n",
       "      <td>167.0</td>\n",
       "      <td>0.0</td>\n",
       "      <td>182.0</td>\n",
       "      <td>44.0</td>\n",
       "    </tr>\n",
       "    <tr>\n",
       "      <th>2</th>\n",
       "      <td>104.840691</td>\n",
       "      <td>211.388947</td>\n",
       "      <td>65.850067</td>\n",
       "      <td>248.907913</td>\n",
       "      <td>173.224136</td>\n",
       "      <td>2.0</td>\n",
       "      <td>114.0</td>\n",
       "      <td>0.0</td>\n",
       "      <td>157.0</td>\n",
       "      <td>20.0</td>\n",
       "    </tr>\n",
       "    <tr>\n",
       "      <th>3</th>\n",
       "      <td>207.231293</td>\n",
       "      <td>269.554932</td>\n",
       "      <td>134.309052</td>\n",
       "      <td>335.368469</td>\n",
       "      <td>190.530579</td>\n",
       "      <td>313.0</td>\n",
       "      <td>71.0</td>\n",
       "      <td>0.0</td>\n",
       "      <td>124.0</td>\n",
       "      <td>33.0</td>\n",
       "    </tr>\n",
       "    <tr>\n",
       "      <th>4</th>\n",
       "      <td>74.119476</td>\n",
       "      <td>269.082123</td>\n",
       "      <td>16.587574</td>\n",
       "      <td>246.205566</td>\n",
       "      <td>120.973083</td>\n",
       "      <td>0.0</td>\n",
       "      <td>871.0</td>\n",
       "      <td>0.0</td>\n",
       "      <td>121.0</td>\n",
       "      <td>16.0</td>\n",
       "    </tr>\n",
       "    <tr>\n",
       "      <th>...</th>\n",
       "      <td>...</td>\n",
       "      <td>...</td>\n",
       "      <td>...</td>\n",
       "      <td>...</td>\n",
       "      <td>...</td>\n",
       "      <td>...</td>\n",
       "      <td>...</td>\n",
       "      <td>...</td>\n",
       "      <td>...</td>\n",
       "      <td>...</td>\n",
       "    </tr>\n",
       "    <tr>\n",
       "      <th>1870</th>\n",
       "      <td>62.254135</td>\n",
       "      <td>175.676697</td>\n",
       "      <td>17.804714</td>\n",
       "      <td>214.947998</td>\n",
       "      <td>156.234070</td>\n",
       "      <td>27.0</td>\n",
       "      <td>141.0</td>\n",
       "      <td>0.0</td>\n",
       "      <td>222.0</td>\n",
       "      <td>210.0</td>\n",
       "    </tr>\n",
       "    <tr>\n",
       "      <th>1871</th>\n",
       "      <td>21.499981</td>\n",
       "      <td>186.431808</td>\n",
       "      <td>0.000000</td>\n",
       "      <td>221.721970</td>\n",
       "      <td>162.251297</td>\n",
       "      <td>0.0</td>\n",
       "      <td>165.0</td>\n",
       "      <td>0.0</td>\n",
       "      <td>164.0</td>\n",
       "      <td>28.0</td>\n",
       "    </tr>\n",
       "    <tr>\n",
       "      <th>1872</th>\n",
       "      <td>291.789856</td>\n",
       "      <td>401.090424</td>\n",
       "      <td>213.824326</td>\n",
       "      <td>362.988068</td>\n",
       "      <td>252.717682</td>\n",
       "      <td>27.0</td>\n",
       "      <td>86.0</td>\n",
       "      <td>316.0</td>\n",
       "      <td>379.0</td>\n",
       "      <td>15.0</td>\n",
       "    </tr>\n",
       "    <tr>\n",
       "      <th>1873</th>\n",
       "      <td>296.953949</td>\n",
       "      <td>370.607819</td>\n",
       "      <td>207.555344</td>\n",
       "      <td>376.257904</td>\n",
       "      <td>262.509827</td>\n",
       "      <td>1023.0</td>\n",
       "      <td>1023.0</td>\n",
       "      <td>1023.0</td>\n",
       "      <td>1023.0</td>\n",
       "      <td>1023.0</td>\n",
       "    </tr>\n",
       "    <tr>\n",
       "      <th>1874</th>\n",
       "      <td>143.286667</td>\n",
       "      <td>244.231689</td>\n",
       "      <td>94.114517</td>\n",
       "      <td>334.820435</td>\n",
       "      <td>219.255798</td>\n",
       "      <td>625.0</td>\n",
       "      <td>160.0</td>\n",
       "      <td>0.0</td>\n",
       "      <td>118.0</td>\n",
       "      <td>92.0</td>\n",
       "    </tr>\n",
       "  </tbody>\n",
       "</table>\n",
       "<p>1875 rows × 10 columns</p>\n",
       "</div>"
      ],
      "text/plain": [
       "      Thumb_pred  Index_pred  Middle_pred   Ring_pred  Pinky_pred   Thumb  \\\n",
       "0     284.195435  397.246002   206.623672  362.777588  248.025436  1023.0   \n",
       "1     277.905487  387.711273   204.387131  363.140656  247.441376    30.0   \n",
       "2     104.840691  211.388947    65.850067  248.907913  173.224136     2.0   \n",
       "3     207.231293  269.554932   134.309052  335.368469  190.530579   313.0   \n",
       "4      74.119476  269.082123    16.587574  246.205566  120.973083     0.0   \n",
       "...          ...         ...          ...         ...         ...     ...   \n",
       "1870   62.254135  175.676697    17.804714  214.947998  156.234070    27.0   \n",
       "1871   21.499981  186.431808     0.000000  221.721970  162.251297     0.0   \n",
       "1872  291.789856  401.090424   213.824326  362.988068  252.717682    27.0   \n",
       "1873  296.953949  370.607819   207.555344  376.257904  262.509827  1023.0   \n",
       "1874  143.286667  244.231689    94.114517  334.820435  219.255798   625.0   \n",
       "\n",
       "       Index  Middle    Ring   Pinky  \n",
       "0      660.0   511.0  1023.0  1023.0  \n",
       "1      167.0     0.0   182.0    44.0  \n",
       "2      114.0     0.0   157.0    20.0  \n",
       "3       71.0     0.0   124.0    33.0  \n",
       "4      871.0     0.0   121.0    16.0  \n",
       "...      ...     ...     ...     ...  \n",
       "1870   141.0     0.0   222.0   210.0  \n",
       "1871   165.0     0.0   164.0    28.0  \n",
       "1872    86.0   316.0   379.0    15.0  \n",
       "1873  1023.0  1023.0  1023.0  1023.0  \n",
       "1874   160.0     0.0   118.0    92.0  \n",
       "\n",
       "[1875 rows x 10 columns]"
      ]
     },
     "execution_count": 156,
     "metadata": {},
     "output_type": "execute_result"
    }
   ],
   "source": [
    "vis"
   ]
  },
  {
   "cell_type": "code",
   "execution_count": 161,
   "metadata": {},
   "outputs": [
    {
     "data": {
      "text/plain": [
       "<AxesSubplot:>"
      ]
     },
     "execution_count": 161,
     "metadata": {},
     "output_type": "execute_result"
    },
    {
     "data": {
      "image/png": "[encoded data removed]",
      "text/plain": [
       "<Figure size 432x288 with 1 Axes>"
      ]
     },
     "metadata": {
      "needs_background": "light"
     },
     "output_type": "display_data"
    }
   ],
   "source": [
    "vis[['Thumb','Thumb_pred']].iloc[0:100].plot()"
   ]
  },
  {
   "cell_type": "markdown",
   "metadata": {},
   "source": [
    "### Save the model and the scalers"
   ]
  },
  {
   "cell_type": "code",
   "execution_count": 25,
   "metadata": {},
   "outputs": [
    {
     "data": {
      "text/plain": [
       "['../models/NNBasic-EMG.gz']"
      ]
     },
     "execution_count": 25,
     "metadata": {},
     "output_type": "execute_result"
    }
   ],
   "source": [
    "import joblib\n",
    "\n",
    "model_name = \"NNBasic\"\n",
    "\n",
    "model.save(f\"../models/{model_name}.h5\")\n",
    "# Save hand scaler to file.\n",
    "# Scales the output of the network, the relative position of the hand, min_max\n",
    "joblib.dump(rel_hand_scaler, f'../models/{model_name}-Hand.gz')\n",
    "\n",
    "# Scales the input to the network, the emg data. \n",
    "joblib.dump(emg_scaler, f'../models/{model_name}-EMG.gz')"
   ]
  },
  {
   "cell_type": "code",
   "execution_count": 32,
   "metadata": {},
   "outputs": [],
   "source": [
    "# Making a prediction in the prediction script.\n",
    "from keras.models import load_model\n",
    "model = load_model(f\"../models/{model_name}.h5\")\n",
    "\n",
    "input_scaler = joblib.load(f'../models/{model_name}-EMG.gz')\n",
    "output_scaler = joblib.load(f'../models/{model_name}-Hand.gz')\n",
    "\n",
    "# Get some input data\n",
    "semg_input = np.array([[ 31, 140, 140,  83,  42,  30,  22,  21]])\n",
    "# Scale the input\n",
    "scaled_input = input_scaler.transform(semg_input)\n",
    "# Get a prediction\n",
    "pred = model.predict(scaled_input)\n",
    "# Scale it back to a value\n",
    "scaled_pred = output_scaler.inverse_transform(pred)\n",
    "scaled_pred\n",
    "# Five finger, 4 joints + palm, wrist. x,y,z\n",
    "NUM_POINTS = (5 * 4 + 2) * 3\n",
    "pred_points = scaled_pred.reshape((3, NUM_POINTS//3))"
   ]
  },
  {
   "cell_type": "code",
   "execution_count": 34,
   "metadata": {},
   "outputs": [
    {
     "name": "stdout",
     "output_type": "stream",
     "text": [
      "[[-4.5049565e-06  1.3522451e-01  1.9394498e-01 ...  4.3251178e-01\n",
      "   4.6078485e-01  4.7190204e-01]\n",
      " [-8.7510090e-04 -7.1135086e-01 -6.2075865e-01 ... -3.4064233e+00\n",
      "  -3.3668852e+00 -3.1552842e+00]\n",
      " [-6.1699393e-05 -1.3594567e+00 -1.3763057e+00 ... -5.9100866e-02\n",
      "  -4.8829131e-03  7.9832748e-03]\n",
      " ...\n",
      " [-5.8942282e-04  4.3737227e-01  4.4054431e-01 ...  8.8437259e-02\n",
      "   4.2439986e-02  6.5242447e-02]\n",
      " [-5.8826065e-04  1.6924892e-01  1.9087942e-01 ...  2.6290509e-01\n",
      "   2.7017626e-01  2.5774345e-01]\n",
      " [-6.7539624e-04 -6.0026234e-01 -6.1047447e-01 ... -5.8251113e-01\n",
      "  -6.5339762e-01 -7.0003843e-01]]\n",
      "MSE:  35.71878606050352\n",
      "RMSE:  5.976519560789835\n",
      "MAE:  3.439322011276025\n"
     ]
    }
   ],
   "source": [
    "prediction = model.predict(test_X) # scaled inputs here\n",
    "print(prediction)\n",
    "\n",
    "# Scaling back the prediction\n",
    "preds = rel_hand_scaler.inverse_transform(prediction)\n",
    "# Scaling back the goals\n",
    "goal = rel_hand_scaler.inverse_transform(test_y)\n",
    "\n",
    "MSE = mean_squared_error(goal, preds)  # first 2 steps, combined\n",
    "print(\"MSE: \", MSE)\n",
    "print(\"RMSE: \", np.sqrt(MSE))  # 3rd step\n",
    "MAE = mean_absolute_error(goal, preds)\n",
    "print(\"MAE: \", MAE)"
   ]
  }
 ],
 "metadata": {
  "kernelspec": {
   "display_name": "Python 3",
   "language": "python",
   "name": "python3"
  },
  "language_info": {
   "codemirror_mode": {
    "name": "ipython",
    "version": 3
   },
   "file_extension": ".py",
   "mimetype": "text/x-python",
   "name": "python",
   "nbconvert_exporter": "python",
   "pygments_lexer": "ipython3",
   "version": "3.8.5"
  }
 },
 "nbformat": 4,
 "nbformat_minor": 4
}
