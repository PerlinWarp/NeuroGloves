{
 "cells": [
  {
   "cell_type": "code",
   "execution_count": 1,
   "metadata": {},
   "outputs": [],
   "source": [
    "import numpy as np\n",
    "import matplotlib.pyplot as plt\n",
    "import pandas as pd\n",
    "import seaborn as sns\n",
    "\n",
    "import tensorflow as tf\n",
    "physical_devices = tf.config.list_physical_devices('GPU')\n",
    "tf.config.experimental.set_memory_growth(physical_devices[0], enable=True)"
   ]
  },
  {
   "cell_type": "code",
   "execution_count": 2,
   "metadata": {},
   "outputs": [],
   "source": [
    "data = pd.read_csv(\"glove_emg1.csv\")"
   ]
  },
  {
   "cell_type": "code",
   "execution_count": 3,
   "metadata": {},
   "outputs": [
    {
     "data": {
      "text/html": [
       "<div>\n",
       "<style scoped>\n",
       "    .dataframe tbody tr th:only-of-type {\n",
       "        vertical-align: middle;\n",
       "    }\n",
       "\n",
       "    .dataframe tbody tr th {\n",
       "        vertical-align: top;\n",
       "    }\n",
       "\n",
       "    .dataframe thead th {\n",
       "        text-align: right;\n",
       "    }\n",
       "</style>\n",
       "<table border=\"1\" class=\"dataframe\">\n",
       "  <thead>\n",
       "    <tr style=\"text-align: right;\">\n",
       "      <th></th>\n",
       "      <th>Channel_1</th>\n",
       "      <th>Channel_2</th>\n",
       "      <th>Channel_3</th>\n",
       "      <th>Channel_4</th>\n",
       "      <th>Channel_5</th>\n",
       "      <th>Channel_6</th>\n",
       "      <th>Channel_7</th>\n",
       "      <th>Channel_8</th>\n",
       "      <th>Thumb</th>\n",
       "      <th>Index</th>\n",
       "      <th>Middle</th>\n",
       "      <th>Ring</th>\n",
       "      <th>Pinky</th>\n",
       "    </tr>\n",
       "  </thead>\n",
       "  <tbody>\n",
       "    <tr>\n",
       "      <th>0</th>\n",
       "      <td>0</td>\n",
       "      <td>-1</td>\n",
       "      <td>-5</td>\n",
       "      <td>-4</td>\n",
       "      <td>3</td>\n",
       "      <td>7</td>\n",
       "      <td>3</td>\n",
       "      <td>1</td>\n",
       "      <td>0</td>\n",
       "      <td>1</td>\n",
       "      <td>2</td>\n",
       "      <td>3</td>\n",
       "      <td>4</td>\n",
       "    </tr>\n",
       "    <tr>\n",
       "      <th>1</th>\n",
       "      <td>0</td>\n",
       "      <td>-3</td>\n",
       "      <td>0</td>\n",
       "      <td>2</td>\n",
       "      <td>-3</td>\n",
       "      <td>1</td>\n",
       "      <td>0</td>\n",
       "      <td>0</td>\n",
       "      <td>0</td>\n",
       "      <td>1</td>\n",
       "      <td>2</td>\n",
       "      <td>3</td>\n",
       "      <td>4</td>\n",
       "    </tr>\n",
       "    <tr>\n",
       "      <th>2</th>\n",
       "      <td>-2</td>\n",
       "      <td>-2</td>\n",
       "      <td>-2</td>\n",
       "      <td>-3</td>\n",
       "      <td>-4</td>\n",
       "      <td>-9</td>\n",
       "      <td>-4</td>\n",
       "      <td>-2</td>\n",
       "      <td>0</td>\n",
       "      <td>1</td>\n",
       "      <td>2</td>\n",
       "      <td>3</td>\n",
       "      <td>4</td>\n",
       "    </tr>\n",
       "    <tr>\n",
       "      <th>3</th>\n",
       "      <td>-1</td>\n",
       "      <td>0</td>\n",
       "      <td>-4</td>\n",
       "      <td>-2</td>\n",
       "      <td>1</td>\n",
       "      <td>0</td>\n",
       "      <td>0</td>\n",
       "      <td>-1</td>\n",
       "      <td>0</td>\n",
       "      <td>1</td>\n",
       "      <td>2</td>\n",
       "      <td>3</td>\n",
       "      <td>4</td>\n",
       "    </tr>\n",
       "    <tr>\n",
       "      <th>4</th>\n",
       "      <td>1</td>\n",
       "      <td>3</td>\n",
       "      <td>6</td>\n",
       "      <td>1</td>\n",
       "      <td>2</td>\n",
       "      <td>-1</td>\n",
       "      <td>-1</td>\n",
       "      <td>-2</td>\n",
       "      <td>0</td>\n",
       "      <td>1</td>\n",
       "      <td>2</td>\n",
       "      <td>3</td>\n",
       "      <td>4</td>\n",
       "    </tr>\n",
       "  </tbody>\n",
       "</table>\n",
       "</div>"
      ],
      "text/plain": [
       "   Channel_1  Channel_2  Channel_3  Channel_4  Channel_5  Channel_6  \\\n",
       "0          0         -1         -5         -4          3          7   \n",
       "1          0         -3          0          2         -3          1   \n",
       "2         -2         -2         -2         -3         -4         -9   \n",
       "3         -1          0         -4         -2          1          0   \n",
       "4          1          3          6          1          2         -1   \n",
       "\n",
       "   Channel_7  Channel_8  Thumb  Index  Middle  Ring  Pinky  \n",
       "0          3          1      0      1       2     3      4  \n",
       "1          0          0      0      1       2     3      4  \n",
       "2         -4         -2      0      1       2     3      4  \n",
       "3          0         -1      0      1       2     3      4  \n",
       "4         -1         -2      0      1       2     3      4  "
      ]
     },
     "execution_count": 3,
     "metadata": {},
     "output_type": "execute_result"
    }
   ],
   "source": [
    "data.head()"
   ]
  },
  {
   "cell_type": "code",
   "execution_count": 4,
   "metadata": {},
   "outputs": [],
   "source": [
    "finger_names = ['Thumb', 'Index', 'Middle', 'Ring', 'Pinky']\n",
    "myo_cols = [\"Channel_1\", \"Channel_2\", \"Channel_3\", \"Channel_4\", \"Channel_5\", \"Channel_6\", \"Channel_7\", \"Channel_8\"]"
   ]
  },
  {
   "cell_type": "code",
   "execution_count": 5,
   "metadata": {},
   "outputs": [],
   "source": [
    "df = data.copy(deep=True)"
   ]
  },
  {
   "cell_type": "code",
   "execution_count": 6,
   "metadata": {},
   "outputs": [
    {
     "data": {
      "text/plain": [
       "<AxesSubplot:>"
      ]
     },
     "execution_count": 6,
     "metadata": {},
     "output_type": "execute_result"
    },
    {
     "data": {
      "image/png": "[encoded data removed]",
      "text/plain": [
       "<Figure size 432x288 with 1 Axes>"
      ]
     },
     "metadata": {
      "needs_background": "light"
     },
     "output_type": "display_data"
    }
   ],
   "source": [
    "df[finger_names].plot()"
   ]
  },
  {
   "cell_type": "code",
   "execution_count": 7,
   "metadata": {},
   "outputs": [
    {
     "data": {
      "text/plain": [
       "<AxesSubplot:>"
      ]
     },
     "execution_count": 7,
     "metadata": {},
     "output_type": "execute_result"
    },
    {
     "data": {
      "image/png": "[encoded data removed]",
      "text/plain": [
       "<Figure size 432x288 with 1 Axes>"
      ]
     },
     "metadata": {
      "needs_background": "light"
     },
     "output_type": "display_data"
    }
   ],
   "source": [
    "df[myo_cols].plot()"
   ]
  },
  {
   "cell_type": "code",
   "execution_count": 8,
   "metadata": {},
   "outputs": [
    {
     "name": "stdout",
     "output_type": "stream",
     "text": [
      "Correlation Matrix\n",
      "\n",
      "Top Absolute Correlations\n",
      "Middle     Ring         0.766536\n",
      "Thumb      Middle       0.747582\n",
      "Channel_1  Channel_8    0.699846\n",
      "Middle     Pinky        0.692025\n",
      "Ring       Pinky        0.673060\n",
      "Channel_3  Channel_4    0.619397\n",
      "Channel_1  Channel_2    0.612738\n",
      "Channel_6  Channel_7    0.592636\n",
      "Index      Middle       0.588362\n",
      "Channel_5  Channel_6    0.578235\n",
      "dtype: float64\n"
     ]
    }
   ],
   "source": [
    "print(\"Correlation Matrix\")\n",
    "print()\n",
    "\n",
    "def get_redundant_pairs(df):\n",
    "    '''Get diagonal and lower triangular pairs of correlation matrix'''\n",
    "    pairs_to_drop = set()\n",
    "    cols = df.columns\n",
    "    for i in range(0, df.shape[1]):\n",
    "        for j in range(0, i+1):\n",
    "            pairs_to_drop.add((cols[i], cols[j]))\n",
    "    return pairs_to_drop\n",
    "\n",
    "def get_top_abs_correlations(df, n=5):\n",
    "    au_corr = df.corr().abs().unstack()\n",
    "    labels_to_drop = get_redundant_pairs(df)\n",
    "    au_corr = au_corr.drop(labels=labels_to_drop).sort_values(ascending=False)\n",
    "    return au_corr[0:n]\n",
    "\n",
    "print(\"Top Absolute Correlations\")\n",
    "print(get_top_abs_correlations(df, 10))"
   ]
  },
  {
   "cell_type": "markdown",
   "metadata": {},
   "source": [
    "# Making a full hand baseline"
   ]
  },
  {
   "cell_type": "code",
   "execution_count": 9,
   "metadata": {},
   "outputs": [
    {
     "name": "stdout",
     "output_type": "stream",
     "text": [
      "Train RMSE: 325.973378\n",
      "Train MAE: 270.348859\n",
      "Test RMSE: 317.544595\n",
      "Test MAE: 264.614668\n"
     ]
    },
    {
     "data": {
      "text/plain": [
       "-0.042400782860461964"
      ]
     },
     "execution_count": 9,
     "metadata": {},
     "output_type": "execute_result"
    }
   ],
   "source": [
    "from sklearn.model_selection import train_test_split\n",
    "from sklearn.metrics import mean_absolute_error\n",
    "from sklearn.metrics import mean_squared_error\n",
    "from sklearn.metrics import r2_score\n",
    "\n",
    "x_cols = ['Channel_1', 'Channel_2', 'Channel_3', 'Channel_4', 'Channel_5',\n",
    "       'Channel_6', 'Channel_7', 'Channel_8']\n",
    "\n",
    "X = df[x_cols]\n",
    "y = df.drop(x_cols,1)\n",
    "\n",
    "train_X, test_X, train_y, test_y = train_test_split(X.to_numpy(), y.to_numpy(), test_size=0.25)\n",
    "\n",
    "# Making our benchmark model\n",
    "# Just predict the mean average number of bikes. \n",
    "y_train_mean = train_y.mean()\n",
    "\n",
    "train_preds = np.ones(train_y.shape) * y_train_mean\n",
    "preds = np.ones(test_y.shape) * y_train_mean\n",
    "\n",
    "rmse = np.sqrt(mean_squared_error(train_y, train_preds))\n",
    "print(\"Train RMSE: %f\" % (rmse))\n",
    "\n",
    "mae = mean_absolute_error(train_y, train_preds)\n",
    "print(\"Train MAE: %f\" % (mae))\n",
    "\n",
    "rmse = np.sqrt(mean_squared_error(test_y, preds))\n",
    "print(\"Test RMSE: %f\" % (rmse))\n",
    "\n",
    "mae = mean_absolute_error(test_y, preds)\n",
    "print(\"Test MAE: %f\" % (mae))\n",
    "\n",
    "r2_score(test_y, preds)"
   ]
  },
  {
   "cell_type": "code",
   "execution_count": 10,
   "metadata": {},
   "outputs": [
    {
     "data": {
      "text/html": [
       "<div>\n",
       "<style scoped>\n",
       "    .dataframe tbody tr th:only-of-type {\n",
       "        vertical-align: middle;\n",
       "    }\n",
       "\n",
       "    .dataframe tbody tr th {\n",
       "        vertical-align: top;\n",
       "    }\n",
       "\n",
       "    .dataframe thead th {\n",
       "        text-align: right;\n",
       "    }\n",
       "</style>\n",
       "<table border=\"1\" class=\"dataframe\">\n",
       "  <thead>\n",
       "    <tr style=\"text-align: right;\">\n",
       "      <th></th>\n",
       "      <th>Channel_1</th>\n",
       "      <th>Channel_2</th>\n",
       "      <th>Channel_3</th>\n",
       "      <th>Channel_4</th>\n",
       "      <th>Channel_5</th>\n",
       "      <th>Channel_6</th>\n",
       "      <th>Channel_7</th>\n",
       "      <th>Channel_8</th>\n",
       "    </tr>\n",
       "  </thead>\n",
       "  <tbody>\n",
       "    <tr>\n",
       "      <th>0</th>\n",
       "      <td>0</td>\n",
       "      <td>-1</td>\n",
       "      <td>-5</td>\n",
       "      <td>-4</td>\n",
       "      <td>3</td>\n",
       "      <td>7</td>\n",
       "      <td>3</td>\n",
       "      <td>1</td>\n",
       "    </tr>\n",
       "    <tr>\n",
       "      <th>1</th>\n",
       "      <td>0</td>\n",
       "      <td>-3</td>\n",
       "      <td>0</td>\n",
       "      <td>2</td>\n",
       "      <td>-3</td>\n",
       "      <td>1</td>\n",
       "      <td>0</td>\n",
       "      <td>0</td>\n",
       "    </tr>\n",
       "    <tr>\n",
       "      <th>2</th>\n",
       "      <td>-2</td>\n",
       "      <td>-2</td>\n",
       "      <td>-2</td>\n",
       "      <td>-3</td>\n",
       "      <td>-4</td>\n",
       "      <td>-9</td>\n",
       "      <td>-4</td>\n",
       "      <td>-2</td>\n",
       "    </tr>\n",
       "    <tr>\n",
       "      <th>3</th>\n",
       "      <td>-1</td>\n",
       "      <td>0</td>\n",
       "      <td>-4</td>\n",
       "      <td>-2</td>\n",
       "      <td>1</td>\n",
       "      <td>0</td>\n",
       "      <td>0</td>\n",
       "      <td>-1</td>\n",
       "    </tr>\n",
       "    <tr>\n",
       "      <th>4</th>\n",
       "      <td>1</td>\n",
       "      <td>3</td>\n",
       "      <td>6</td>\n",
       "      <td>1</td>\n",
       "      <td>2</td>\n",
       "      <td>-1</td>\n",
       "      <td>-1</td>\n",
       "      <td>-2</td>\n",
       "    </tr>\n",
       "    <tr>\n",
       "      <th>...</th>\n",
       "      <td>...</td>\n",
       "      <td>...</td>\n",
       "      <td>...</td>\n",
       "      <td>...</td>\n",
       "      <td>...</td>\n",
       "      <td>...</td>\n",
       "      <td>...</td>\n",
       "      <td>...</td>\n",
       "    </tr>\n",
       "    <tr>\n",
       "      <th>2545</th>\n",
       "      <td>2</td>\n",
       "      <td>8</td>\n",
       "      <td>19</td>\n",
       "      <td>8</td>\n",
       "      <td>1</td>\n",
       "      <td>1</td>\n",
       "      <td>0</td>\n",
       "      <td>1</td>\n",
       "    </tr>\n",
       "    <tr>\n",
       "      <th>2546</th>\n",
       "      <td>-6</td>\n",
       "      <td>-17</td>\n",
       "      <td>11</td>\n",
       "      <td>5</td>\n",
       "      <td>-4</td>\n",
       "      <td>-3</td>\n",
       "      <td>-3</td>\n",
       "      <td>-3</td>\n",
       "    </tr>\n",
       "    <tr>\n",
       "      <th>2547</th>\n",
       "      <td>-2</td>\n",
       "      <td>2</td>\n",
       "      <td>-38</td>\n",
       "      <td>-9</td>\n",
       "      <td>-6</td>\n",
       "      <td>-2</td>\n",
       "      <td>-3</td>\n",
       "      <td>-3</td>\n",
       "    </tr>\n",
       "    <tr>\n",
       "      <th>2548</th>\n",
       "      <td>4</td>\n",
       "      <td>18</td>\n",
       "      <td>14</td>\n",
       "      <td>-16</td>\n",
       "      <td>1</td>\n",
       "      <td>1</td>\n",
       "      <td>-2</td>\n",
       "      <td>0</td>\n",
       "    </tr>\n",
       "    <tr>\n",
       "      <th>2549</th>\n",
       "      <td>-2</td>\n",
       "      <td>-8</td>\n",
       "      <td>-4</td>\n",
       "      <td>1</td>\n",
       "      <td>-1</td>\n",
       "      <td>-4</td>\n",
       "      <td>-2</td>\n",
       "      <td>-2</td>\n",
       "    </tr>\n",
       "  </tbody>\n",
       "</table>\n",
       "<p>2550 rows × 8 columns</p>\n",
       "</div>"
      ],
      "text/plain": [
       "      Channel_1  Channel_2  Channel_3  Channel_4  Channel_5  Channel_6  \\\n",
       "0             0         -1         -5         -4          3          7   \n",
       "1             0         -3          0          2         -3          1   \n",
       "2            -2         -2         -2         -3         -4         -9   \n",
       "3            -1          0         -4         -2          1          0   \n",
       "4             1          3          6          1          2         -1   \n",
       "...         ...        ...        ...        ...        ...        ...   \n",
       "2545          2          8         19          8          1          1   \n",
       "2546         -6        -17         11          5         -4         -3   \n",
       "2547         -2          2        -38         -9         -6         -2   \n",
       "2548          4         18         14        -16          1          1   \n",
       "2549         -2         -8         -4          1         -1         -4   \n",
       "\n",
       "      Channel_7  Channel_8  \n",
       "0             3          1  \n",
       "1             0          0  \n",
       "2            -4         -2  \n",
       "3             0         -1  \n",
       "4            -1         -2  \n",
       "...         ...        ...  \n",
       "2545          0          1  \n",
       "2546         -3         -3  \n",
       "2547         -3         -3  \n",
       "2548         -2          0  \n",
       "2549         -2         -2  \n",
       "\n",
       "[2550 rows x 8 columns]"
      ]
     },
     "execution_count": 10,
     "metadata": {},
     "output_type": "execute_result"
    }
   ],
   "source": [
    "X"
   ]
  },
  {
   "cell_type": "code",
   "execution_count": 11,
   "metadata": {},
   "outputs": [
    {
     "data": {
      "text/html": [
       "<div>\n",
       "<style scoped>\n",
       "    .dataframe tbody tr th:only-of-type {\n",
       "        vertical-align: middle;\n",
       "    }\n",
       "\n",
       "    .dataframe tbody tr th {\n",
       "        vertical-align: top;\n",
       "    }\n",
       "\n",
       "    .dataframe thead th {\n",
       "        text-align: right;\n",
       "    }\n",
       "</style>\n",
       "<table border=\"1\" class=\"dataframe\">\n",
       "  <thead>\n",
       "    <tr style=\"text-align: right;\">\n",
       "      <th></th>\n",
       "      <th>Thumb</th>\n",
       "      <th>Index</th>\n",
       "      <th>Middle</th>\n",
       "      <th>Ring</th>\n",
       "      <th>Pinky</th>\n",
       "    </tr>\n",
       "  </thead>\n",
       "  <tbody>\n",
       "    <tr>\n",
       "      <th>0</th>\n",
       "      <td>0</td>\n",
       "      <td>1</td>\n",
       "      <td>2</td>\n",
       "      <td>3</td>\n",
       "      <td>4</td>\n",
       "    </tr>\n",
       "    <tr>\n",
       "      <th>1</th>\n",
       "      <td>0</td>\n",
       "      <td>1</td>\n",
       "      <td>2</td>\n",
       "      <td>3</td>\n",
       "      <td>4</td>\n",
       "    </tr>\n",
       "    <tr>\n",
       "      <th>2</th>\n",
       "      <td>0</td>\n",
       "      <td>1</td>\n",
       "      <td>2</td>\n",
       "      <td>3</td>\n",
       "      <td>4</td>\n",
       "    </tr>\n",
       "    <tr>\n",
       "      <th>3</th>\n",
       "      <td>0</td>\n",
       "      <td>1</td>\n",
       "      <td>2</td>\n",
       "      <td>3</td>\n",
       "      <td>4</td>\n",
       "    </tr>\n",
       "    <tr>\n",
       "      <th>4</th>\n",
       "      <td>0</td>\n",
       "      <td>1</td>\n",
       "      <td>2</td>\n",
       "      <td>3</td>\n",
       "      <td>4</td>\n",
       "    </tr>\n",
       "    <tr>\n",
       "      <th>...</th>\n",
       "      <td>...</td>\n",
       "      <td>...</td>\n",
       "      <td>...</td>\n",
       "      <td>...</td>\n",
       "      <td>...</td>\n",
       "    </tr>\n",
       "    <tr>\n",
       "      <th>2545</th>\n",
       "      <td>449</td>\n",
       "      <td>126</td>\n",
       "      <td>0</td>\n",
       "      <td>73</td>\n",
       "      <td>12</td>\n",
       "    </tr>\n",
       "    <tr>\n",
       "      <th>2546</th>\n",
       "      <td>449</td>\n",
       "      <td>126</td>\n",
       "      <td>0</td>\n",
       "      <td>73</td>\n",
       "      <td>12</td>\n",
       "    </tr>\n",
       "    <tr>\n",
       "      <th>2547</th>\n",
       "      <td>449</td>\n",
       "      <td>126</td>\n",
       "      <td>0</td>\n",
       "      <td>75</td>\n",
       "      <td>15</td>\n",
       "    </tr>\n",
       "    <tr>\n",
       "      <th>2548</th>\n",
       "      <td>449</td>\n",
       "      <td>126</td>\n",
       "      <td>0</td>\n",
       "      <td>75</td>\n",
       "      <td>15</td>\n",
       "    </tr>\n",
       "    <tr>\n",
       "      <th>2549</th>\n",
       "      <td>449</td>\n",
       "      <td>129</td>\n",
       "      <td>0</td>\n",
       "      <td>75</td>\n",
       "      <td>15</td>\n",
       "    </tr>\n",
       "  </tbody>\n",
       "</table>\n",
       "<p>2550 rows × 5 columns</p>\n",
       "</div>"
      ],
      "text/plain": [
       "      Thumb  Index  Middle  Ring  Pinky\n",
       "0         0      1       2     3      4\n",
       "1         0      1       2     3      4\n",
       "2         0      1       2     3      4\n",
       "3         0      1       2     3      4\n",
       "4         0      1       2     3      4\n",
       "...     ...    ...     ...   ...    ...\n",
       "2545    449    126       0    73     12\n",
       "2546    449    126       0    73     12\n",
       "2547    449    126       0    75     15\n",
       "2548    449    126       0    75     15\n",
       "2549    449    129       0    75     15\n",
       "\n",
       "[2550 rows x 5 columns]"
      ]
     },
     "execution_count": 11,
     "metadata": {},
     "output_type": "execute_result"
    }
   ],
   "source": [
    "y"
   ]
  },
  {
   "cell_type": "markdown",
   "metadata": {},
   "source": [
    "# Making a baseline Neural Network"
   ]
  },
  {
   "cell_type": "code",
   "execution_count": 12,
   "metadata": {},
   "outputs": [],
   "source": [
    "from sklearn.model_selection import train_test_split\n",
    "from keras.models import Sequential\n",
    "from keras.layers import Dense, Activation, Flatten\n",
    "\n",
    "from sklearn.preprocessing import MinMaxScaler, StandardScaler\n",
    "\n",
    "from sklearn.metrics import mean_absolute_error\n",
    "from sklearn.metrics import mean_squared_error"
   ]
  },
  {
   "cell_type": "code",
   "execution_count": 25,
   "metadata": {},
   "outputs": [
    {
     "name": "stderr",
     "output_type": "stream",
     "text": [
      "<ipython-input-25-12b967703acd>:5: FutureWarning: In a future version of pandas all arguments of DataFrame.drop except for the argument 'labels' will be keyword-only\n",
      "  y = df.drop(x_cols,1)\n"
     ]
    }
   ],
   "source": [
    "x_cols = ['Channel_1', 'Channel_2', 'Channel_3', 'Channel_4', 'Channel_5',\n",
    "       'Channel_6', 'Channel_7', 'Channel_8']\n",
    "\n",
    "X = abs(df[x_cols])\n",
    "y = df.drop(x_cols,1)\n",
    "\n",
    "rel_hand_scaler = StandardScaler()\n",
    "emg_scaler = StandardScaler()\n",
    "\n",
    "train_X, test_X, train_y, test_y = train_test_split(X, y, test_size=0.25)\n",
    "# Fit the scaler on the training set.\n",
    "train_X = emg_scaler.fit_transform(train_X)\n",
    "train_y = rel_hand_scaler.fit_transform(train_y)\n",
    "# Scale the output data.\n",
    "test_X = emg_scaler.transform(test_X)\n",
    "test_y = rel_hand_scaler.transform(test_y)"
   ]
  },
  {
   "cell_type": "code",
   "execution_count": 26,
   "metadata": {},
   "outputs": [
    {
     "name": "stdout",
     "output_type": "stream",
     "text": [
      "Model: \"sequential_3\"\n",
      "_________________________________________________________________\n",
      "Layer (type)                 Output Shape              Param #   \n",
      "=================================================================\n",
      "dense_12 (Dense)             (None, 16)                144       \n",
      "_________________________________________________________________\n",
      "dense_13 (Dense)             (None, 32)                544       \n",
      "_________________________________________________________________\n",
      "dense_14 (Dense)             (None, 64)                2112      \n",
      "_________________________________________________________________\n",
      "dense_15 (Dense)             (None, 5)                 325       \n",
      "=================================================================\n",
      "Total params: 3,125\n",
      "Trainable params: 3,125\n",
      "Non-trainable params: 0\n",
      "_________________________________________________________________\n"
     ]
    }
   ],
   "source": [
    "model = Sequential()\n",
    "\n",
    "# The Input Layer :\n",
    "model.add(Dense(16,input_dim = train_X.shape[1], activation='relu'))\n",
    "\n",
    "# The Hidden Layers :\n",
    "model.add(Dense(32,activation='relu'))\n",
    "model.add(Dense(64,activation='relu'))\n",
    "\n",
    "# The Output Layer :\n",
    "model.add(Dense(5,activation='linear'))\n",
    "\n",
    "# Compile the network :\n",
    "model.compile(loss='mse', optimizer='Adam')\n",
    "model.summary()"
   ]
  },
  {
   "cell_type": "code",
   "execution_count": 27,
   "metadata": {
    "scrolled": true
   },
   "outputs": [
    {
     "name": "stdout",
     "output_type": "stream",
     "text": [
      "Epoch 1/200\n",
      "60/60 [==============================] - 1s 5ms/step - loss: 0.9880 - val_loss: 0.9096\n",
      "Epoch 2/200\n",
      "60/60 [==============================] - 0s 3ms/step - loss: 0.9155 - val_loss: 0.9030\n",
      "Epoch 3/200\n",
      "60/60 [==============================] - 0s 3ms/step - loss: 1.0057 - val_loss: 0.8986\n",
      "Epoch 4/200\n",
      "60/60 [==============================] - 0s 3ms/step - loss: 1.0046 - val_loss: 0.8951\n",
      "Epoch 5/200\n",
      "60/60 [==============================] - 0s 3ms/step - loss: 0.9469 - val_loss: 0.8914\n",
      "Epoch 6/200\n",
      "60/60 [==============================] - 0s 3ms/step - loss: 0.9437 - val_loss: 0.8891\n",
      "Epoch 7/200\n",
      "60/60 [==============================] - 0s 3ms/step - loss: 0.9526 - val_loss: 0.8874\n",
      "Epoch 8/200\n",
      "60/60 [==============================] - 0s 3ms/step - loss: 0.9484 - val_loss: 0.8859\n",
      "Epoch 9/200\n",
      "60/60 [==============================] - 0s 3ms/step - loss: 0.9459 - val_loss: 0.8843\n",
      "Epoch 10/200\n",
      "60/60 [==============================] - 0s 3ms/step - loss: 0.9266 - val_loss: 0.8858\n",
      "Epoch 11/200\n",
      "60/60 [==============================] - 0s 3ms/step - loss: 0.9739 - val_loss: 0.8829\n",
      "Epoch 12/200\n",
      "60/60 [==============================] - 0s 3ms/step - loss: 0.9557 - val_loss: 0.8849\n",
      "Epoch 13/200\n",
      "60/60 [==============================] - 0s 3ms/step - loss: 0.9237 - val_loss: 0.8839\n",
      "Epoch 14/200\n",
      "60/60 [==============================] - 0s 3ms/step - loss: 0.9250 - val_loss: 0.8862\n",
      "Epoch 15/200\n",
      "60/60 [==============================] - 0s 3ms/step - loss: 0.9261 - val_loss: 0.8841\n",
      "Epoch 16/200\n",
      "60/60 [==============================] - 0s 3ms/step - loss: 0.9220 - val_loss: 0.8868\n",
      "Epoch 17/200\n",
      "60/60 [==============================] - 0s 3ms/step - loss: 0.9190 - val_loss: 0.8872\n",
      "Epoch 18/200\n",
      "60/60 [==============================] - 0s 3ms/step - loss: 0.9416 - val_loss: 0.8868\n",
      "Epoch 19/200\n",
      "60/60 [==============================] - 0s 3ms/step - loss: 0.9144 - val_loss: 0.8932\n",
      "Epoch 20/200\n",
      "60/60 [==============================] - 0s 3ms/step - loss: 0.8902 - val_loss: 0.8882\n",
      "Epoch 21/200\n",
      "60/60 [==============================] - 0s 3ms/step - loss: 0.9415 - val_loss: 0.8926\n",
      "Epoch 22/200\n",
      "60/60 [==============================] - 0s 3ms/step - loss: 0.9621 - val_loss: 0.8935\n",
      "Epoch 23/200\n",
      "60/60 [==============================] - 0s 3ms/step - loss: 0.8893 - val_loss: 0.8914\n",
      "Epoch 24/200\n",
      "60/60 [==============================] - 0s 3ms/step - loss: 0.9384 - val_loss: 0.8895\n",
      "Epoch 25/200\n",
      "60/60 [==============================] - 0s 3ms/step - loss: 0.8990 - val_loss: 0.8891\n",
      "Epoch 26/200\n",
      "60/60 [==============================] - 0s 3ms/step - loss: 0.8883 - val_loss: 0.8920\n",
      "Epoch 27/200\n",
      "60/60 [==============================] - 0s 3ms/step - loss: 0.9020 - val_loss: 0.8938\n",
      "Epoch 28/200\n",
      "60/60 [==============================] - 0s 3ms/step - loss: 0.9054 - val_loss: 0.8947\n",
      "Epoch 29/200\n",
      "60/60 [==============================] - 0s 3ms/step - loss: 0.8992 - val_loss: 0.8922\n",
      "Epoch 30/200\n",
      "60/60 [==============================] - 0s 3ms/step - loss: 0.8871 - val_loss: 0.8979\n",
      "Epoch 31/200\n",
      "60/60 [==============================] - 0s 3ms/step - loss: 0.9149 - val_loss: 0.9115\n",
      "Epoch 32/200\n",
      "60/60 [==============================] - 0s 3ms/step - loss: 0.8577 - val_loss: 0.9045\n",
      "Epoch 33/200\n",
      "60/60 [==============================] - 0s 3ms/step - loss: 0.8593 - val_loss: 0.9098\n",
      "Epoch 34/200\n",
      "60/60 [==============================] - 0s 3ms/step - loss: 0.8421 - val_loss: 0.9079\n",
      "Epoch 35/200\n",
      "60/60 [==============================] - 0s 3ms/step - loss: 0.8207 - val_loss: 0.9103\n",
      "Epoch 36/200\n",
      "60/60 [==============================] - 0s 3ms/step - loss: 0.8293 - val_loss: 0.9133\n",
      "Epoch 37/200\n",
      "60/60 [==============================] - 0s 3ms/step - loss: 0.8320 - val_loss: 0.9205\n",
      "Epoch 38/200\n",
      "60/60 [==============================] - 0s 3ms/step - loss: 0.8115 - val_loss: 0.9176\n",
      "Epoch 39/200\n",
      "60/60 [==============================] - 0s 3ms/step - loss: 0.8584 - val_loss: 0.9183\n",
      "Epoch 40/200\n",
      "60/60 [==============================] - 0s 3ms/step - loss: 0.8319 - val_loss: 0.9303\n",
      "Epoch 41/200\n",
      "60/60 [==============================] - 0s 3ms/step - loss: 0.8015 - val_loss: 0.9321\n",
      "Epoch 42/200\n",
      "60/60 [==============================] - 0s 3ms/step - loss: 0.8234 - val_loss: 0.9426\n",
      "Epoch 43/200\n",
      "60/60 [==============================] - 0s 3ms/step - loss: 0.8243 - val_loss: 0.9326\n",
      "Epoch 44/200\n",
      "60/60 [==============================] - 0s 3ms/step - loss: 0.8384 - val_loss: 0.9348\n",
      "Epoch 45/200\n",
      "60/60 [==============================] - 0s 3ms/step - loss: 0.8398 - val_loss: 0.9432\n",
      "Epoch 46/200\n",
      "60/60 [==============================] - 0s 3ms/step - loss: 0.8176 - val_loss: 0.9441\n",
      "Epoch 47/200\n",
      "60/60 [==============================] - 0s 3ms/step - loss: 0.7853 - val_loss: 0.9506\n",
      "Epoch 48/200\n",
      "60/60 [==============================] - 0s 3ms/step - loss: 0.8220 - val_loss: 0.9423\n",
      "Epoch 49/200\n",
      "60/60 [==============================] - 0s 3ms/step - loss: 0.7850 - val_loss: 0.9514\n",
      "Epoch 50/200\n",
      "60/60 [==============================] - 0s 3ms/step - loss: 0.8026 - val_loss: 0.9460\n",
      "Epoch 51/200\n",
      "60/60 [==============================] - 0s 3ms/step - loss: 0.8301 - val_loss: 0.9650\n",
      "Epoch 52/200\n",
      "60/60 [==============================] - 0s 3ms/step - loss: 0.8173 - val_loss: 0.9563\n",
      "Epoch 53/200\n",
      "60/60 [==============================] - 0s 3ms/step - loss: 0.8082 - val_loss: 0.9659\n",
      "Epoch 54/200\n",
      "60/60 [==============================] - 0s 3ms/step - loss: 0.8204 - val_loss: 0.9860\n",
      "Epoch 55/200\n",
      "60/60 [==============================] - 0s 3ms/step - loss: 0.7943 - val_loss: 0.9661\n",
      "Epoch 56/200\n",
      "60/60 [==============================] - 0s 3ms/step - loss: 0.7798 - val_loss: 0.9749\n",
      "Epoch 57/200\n",
      "60/60 [==============================] - 0s 3ms/step - loss: 0.7915 - val_loss: 0.9801\n",
      "Epoch 58/200\n",
      "60/60 [==============================] - 0s 3ms/step - loss: 0.7680 - val_loss: 0.9919\n",
      "Epoch 59/200\n",
      "60/60 [==============================] - 0s 3ms/step - loss: 0.7458 - val_loss: 0.9802\n",
      "Epoch 60/200\n",
      "60/60 [==============================] - 0s 3ms/step - loss: 0.7228 - val_loss: 1.0130\n",
      "Epoch 61/200\n",
      "60/60 [==============================] - 0s 3ms/step - loss: 0.7676 - val_loss: 0.9853\n",
      "Epoch 62/200\n",
      "60/60 [==============================] - 0s 3ms/step - loss: 0.8182 - val_loss: 1.0046\n",
      "Epoch 63/200\n",
      "60/60 [==============================] - 0s 3ms/step - loss: 0.7740 - val_loss: 0.9984\n",
      "Epoch 64/200\n",
      "60/60 [==============================] - 0s 3ms/step - loss: 0.7404 - val_loss: 0.9900\n",
      "Epoch 65/200\n",
      "60/60 [==============================] - 0s 3ms/step - loss: 0.7460 - val_loss: 1.0040\n",
      "Epoch 66/200\n",
      "60/60 [==============================] - 0s 3ms/step - loss: 0.7307 - val_loss: 1.0086\n",
      "Epoch 67/200\n",
      "60/60 [==============================] - 0s 3ms/step - loss: 0.7264 - val_loss: 1.0032\n",
      "Epoch 68/200\n",
      "60/60 [==============================] - 0s 3ms/step - loss: 0.7328 - val_loss: 1.0019\n",
      "Epoch 69/200\n",
      "60/60 [==============================] - 0s 3ms/step - loss: 0.7531 - val_loss: 1.0104\n",
      "Epoch 70/200\n",
      "60/60 [==============================] - 0s 3ms/step - loss: 0.7246 - val_loss: 1.0226\n",
      "Epoch 71/200\n",
      "60/60 [==============================] - 0s 3ms/step - loss: 0.6998 - val_loss: 1.0130\n",
      "Epoch 72/200\n",
      "60/60 [==============================] - 0s 3ms/step - loss: 0.7313 - val_loss: 1.0179\n",
      "Epoch 73/200\n",
      "60/60 [==============================] - 0s 3ms/step - loss: 0.7215 - val_loss: 1.0363\n",
      "Epoch 74/200\n",
      "60/60 [==============================] - 0s 3ms/step - loss: 0.7641 - val_loss: 1.0271\n",
      "Epoch 75/200\n",
      "60/60 [==============================] - 0s 3ms/step - loss: 0.7320 - val_loss: 1.0207\n",
      "Epoch 76/200\n",
      "60/60 [==============================] - 0s 3ms/step - loss: 0.7363 - val_loss: 1.0466\n",
      "Epoch 77/200\n",
      "60/60 [==============================] - 0s 3ms/step - loss: 0.7153 - val_loss: 1.0246\n",
      "Epoch 78/200\n",
      "60/60 [==============================] - 0s 3ms/step - loss: 0.7122 - val_loss: 1.0290\n",
      "Epoch 79/200\n",
      "60/60 [==============================] - 0s 3ms/step - loss: 0.6867 - val_loss: 1.0409\n",
      "Epoch 80/200\n",
      "60/60 [==============================] - 0s 3ms/step - loss: 0.7216 - val_loss: 1.0425\n",
      "Epoch 81/200\n",
      "60/60 [==============================] - 0s 3ms/step - loss: 0.7104 - val_loss: 1.0474\n",
      "Epoch 82/200\n",
      "60/60 [==============================] - 0s 3ms/step - loss: 0.7209 - val_loss: 1.0701\n",
      "Epoch 83/200\n"
     ]
    },
    {
     "name": "stdout",
     "output_type": "stream",
     "text": [
      "60/60 [==============================] - 0s 3ms/step - loss: 0.7268 - val_loss: 1.0372\n",
      "Epoch 84/200\n",
      "60/60 [==============================] - 0s 3ms/step - loss: 0.7176 - val_loss: 1.0554\n",
      "Epoch 85/200\n",
      "60/60 [==============================] - 0s 3ms/step - loss: 0.7518 - val_loss: 1.0588\n",
      "Epoch 86/200\n",
      "60/60 [==============================] - 0s 3ms/step - loss: 0.6850 - val_loss: 1.0616\n",
      "Epoch 87/200\n",
      "60/60 [==============================] - 0s 3ms/step - loss: 0.6967 - val_loss: 1.0611\n",
      "Epoch 88/200\n",
      "60/60 [==============================] - 0s 3ms/step - loss: 0.7125 - val_loss: 1.0735\n",
      "Epoch 89/200\n",
      "60/60 [==============================] - 0s 3ms/step - loss: 0.6763 - val_loss: 1.0641\n",
      "Epoch 90/200\n",
      "60/60 [==============================] - 0s 3ms/step - loss: 0.7151 - val_loss: 1.0634\n",
      "Epoch 91/200\n",
      "60/60 [==============================] - 0s 3ms/step - loss: 0.6818 - val_loss: 1.0847\n",
      "Epoch 92/200\n",
      "60/60 [==============================] - 0s 3ms/step - loss: 0.7123 - val_loss: 1.0743\n",
      "Epoch 93/200\n",
      "60/60 [==============================] - 0s 3ms/step - loss: 0.6809 - val_loss: 1.0791\n",
      "Epoch 94/200\n",
      "60/60 [==============================] - 0s 3ms/step - loss: 0.6936 - val_loss: 1.0690\n",
      "Epoch 95/200\n",
      "60/60 [==============================] - 0s 3ms/step - loss: 0.6855 - val_loss: 1.0690\n",
      "Epoch 96/200\n",
      "60/60 [==============================] - 0s 3ms/step - loss: 0.6819 - val_loss: 1.0726\n",
      "Epoch 97/200\n",
      "60/60 [==============================] - 0s 3ms/step - loss: 0.6788 - val_loss: 1.0770\n",
      "Epoch 98/200\n",
      "60/60 [==============================] - 0s 3ms/step - loss: 0.6645 - val_loss: 1.0895\n",
      "Epoch 99/200\n",
      "60/60 [==============================] - 0s 3ms/step - loss: 0.6532 - val_loss: 1.0863\n",
      "Epoch 100/200\n",
      "60/60 [==============================] - 0s 3ms/step - loss: 0.6700 - val_loss: 1.0769\n",
      "Epoch 101/200\n",
      "60/60 [==============================] - 0s 3ms/step - loss: 0.6571 - val_loss: 1.0800\n",
      "Epoch 102/200\n",
      "60/60 [==============================] - 0s 3ms/step - loss: 0.6800 - val_loss: 1.0928\n",
      "Epoch 103/200\n",
      "60/60 [==============================] - 0s 3ms/step - loss: 0.6975 - val_loss: 1.0879\n",
      "Epoch 104/200\n",
      "60/60 [==============================] - 0s 3ms/step - loss: 0.6596 - val_loss: 1.0985\n",
      "Epoch 105/200\n",
      "60/60 [==============================] - 0s 3ms/step - loss: 0.6915 - val_loss: 1.1146\n",
      "Epoch 106/200\n",
      "60/60 [==============================] - 0s 3ms/step - loss: 0.6522 - val_loss: 1.1146\n",
      "Epoch 107/200\n",
      "60/60 [==============================] - 0s 3ms/step - loss: 0.6564 - val_loss: 1.0937\n",
      "Epoch 108/200\n",
      "60/60 [==============================] - 0s 3ms/step - loss: 0.6517 - val_loss: 1.0987\n",
      "Epoch 109/200\n",
      "60/60 [==============================] - 0s 3ms/step - loss: 0.6678 - val_loss: 1.0923\n",
      "Epoch 110/200\n",
      "60/60 [==============================] - 0s 3ms/step - loss: 0.6534 - val_loss: 1.1088\n",
      "Epoch 111/200\n",
      "60/60 [==============================] - 0s 3ms/step - loss: 0.6547 - val_loss: 1.1157\n",
      "Epoch 112/200\n",
      "60/60 [==============================] - 0s 3ms/step - loss: 0.6636 - val_loss: 1.1161\n",
      "Epoch 113/200\n",
      "60/60 [==============================] - 0s 3ms/step - loss: 0.6764 - val_loss: 1.1089\n",
      "Epoch 114/200\n",
      "60/60 [==============================] - 0s 3ms/step - loss: 0.6502 - val_loss: 1.1026\n",
      "Epoch 115/200\n",
      "60/60 [==============================] - 0s 3ms/step - loss: 0.6617 - val_loss: 1.1272\n",
      "Epoch 116/200\n",
      "60/60 [==============================] - 0s 3ms/step - loss: 0.6511 - val_loss: 1.1119\n",
      "Epoch 117/200\n",
      "60/60 [==============================] - 0s 3ms/step - loss: 0.6712 - val_loss: 1.1188\n",
      "Epoch 118/200\n",
      "60/60 [==============================] - 0s 3ms/step - loss: 0.6451 - val_loss: 1.1740\n",
      "Epoch 119/200\n",
      "60/60 [==============================] - 0s 3ms/step - loss: 0.6621 - val_loss: 1.1283\n",
      "Epoch 120/200\n",
      "60/60 [==============================] - 0s 3ms/step - loss: 0.6451 - val_loss: 1.1220\n",
      "Epoch 121/200\n",
      "60/60 [==============================] - 0s 3ms/step - loss: 0.6743 - val_loss: 1.1269\n",
      "Epoch 122/200\n",
      "60/60 [==============================] - 0s 3ms/step - loss: 0.6414 - val_loss: 1.1242\n",
      "Epoch 123/200\n",
      "60/60 [==============================] - 0s 3ms/step - loss: 0.6690 - val_loss: 1.1217\n",
      "Epoch 124/200\n",
      "60/60 [==============================] - 0s 3ms/step - loss: 0.6505 - val_loss: 1.1355\n",
      "Epoch 125/200\n",
      "60/60 [==============================] - 0s 3ms/step - loss: 0.6526 - val_loss: 1.1365\n",
      "Epoch 126/200\n",
      "60/60 [==============================] - 0s 3ms/step - loss: 0.6377 - val_loss: 1.1299\n",
      "Epoch 127/200\n",
      "60/60 [==============================] - 0s 3ms/step - loss: 0.6196 - val_loss: 1.1492\n",
      "Epoch 128/200\n",
      "60/60 [==============================] - 0s 3ms/step - loss: 0.6531 - val_loss: 1.1455\n",
      "Epoch 129/200\n",
      "60/60 [==============================] - 0s 3ms/step - loss: 0.6182 - val_loss: 1.1360\n",
      "Epoch 130/200\n",
      "60/60 [==============================] - 0s 3ms/step - loss: 0.6570 - val_loss: 1.1424\n",
      "Epoch 131/200\n",
      "60/60 [==============================] - 0s 3ms/step - loss: 0.6194 - val_loss: 1.1589\n",
      "Epoch 132/200\n",
      "60/60 [==============================] - 0s 3ms/step - loss: 0.6371 - val_loss: 1.1636\n",
      "Epoch 133/200\n",
      "60/60 [==============================] - 0s 3ms/step - loss: 0.6263 - val_loss: 1.1638\n",
      "Epoch 134/200\n",
      "60/60 [==============================] - 0s 3ms/step - loss: 0.6406 - val_loss: 1.1572\n",
      "Epoch 135/200\n",
      "60/60 [==============================] - 0s 3ms/step - loss: 0.6308 - val_loss: 1.1613\n",
      "Epoch 136/200\n",
      "60/60 [==============================] - 0s 3ms/step - loss: 0.6357 - val_loss: 1.1496\n",
      "Epoch 137/200\n",
      "60/60 [==============================] - 0s 3ms/step - loss: 0.6455 - val_loss: 1.1424\n",
      "Epoch 138/200\n",
      "60/60 [==============================] - 0s 3ms/step - loss: 0.6562 - val_loss: 1.1550\n",
      "Epoch 139/200\n",
      "60/60 [==============================] - 0s 3ms/step - loss: 0.6008 - val_loss: 1.1802\n",
      "Epoch 140/200\n",
      "60/60 [==============================] - 0s 3ms/step - loss: 0.6345 - val_loss: 1.1738\n",
      "Epoch 141/200\n",
      "60/60 [==============================] - 0s 3ms/step - loss: 0.6433 - val_loss: 1.1658\n",
      "Epoch 142/200\n",
      "60/60 [==============================] - 0s 3ms/step - loss: 0.6189 - val_loss: 1.1809\n",
      "Epoch 143/200\n",
      "60/60 [==============================] - 0s 3ms/step - loss: 0.6413 - val_loss: 1.1545\n",
      "Epoch 144/200\n",
      "60/60 [==============================] - 0s 3ms/step - loss: 0.6111 - val_loss: 1.1689\n",
      "Epoch 145/200\n",
      "60/60 [==============================] - 0s 3ms/step - loss: 0.5915 - val_loss: 1.1606\n",
      "Epoch 146/200\n",
      "60/60 [==============================] - 0s 3ms/step - loss: 0.6382 - val_loss: 1.1671\n",
      "Epoch 147/200\n",
      "60/60 [==============================] - 0s 3ms/step - loss: 0.6279 - val_loss: 1.1541\n",
      "Epoch 148/200\n",
      "60/60 [==============================] - 0s 3ms/step - loss: 0.6201 - val_loss: 1.1889\n",
      "Epoch 149/200\n",
      "60/60 [==============================] - 0s 3ms/step - loss: 0.6076 - val_loss: 1.1597\n",
      "Epoch 150/200\n",
      "60/60 [==============================] - 0s 3ms/step - loss: 0.6051 - val_loss: 1.1646\n",
      "Epoch 151/200\n",
      "60/60 [==============================] - 0s 3ms/step - loss: 0.6502 - val_loss: 1.1892\n",
      "Epoch 152/200\n",
      "60/60 [==============================] - 0s 3ms/step - loss: 0.6300 - val_loss: 1.1682\n",
      "Epoch 153/200\n",
      "60/60 [==============================] - 0s 3ms/step - loss: 0.6289 - val_loss: 1.1816\n",
      "Epoch 154/200\n",
      "60/60 [==============================] - 0s 3ms/step - loss: 0.5895 - val_loss: 1.1850\n",
      "Epoch 155/200\n",
      "60/60 [==============================] - 0s 3ms/step - loss: 0.5918 - val_loss: 1.1802\n",
      "Epoch 156/200\n",
      "60/60 [==============================] - 0s 3ms/step - loss: 0.6095 - val_loss: 1.1702\n",
      "Epoch 157/200\n",
      "60/60 [==============================] - 0s 3ms/step - loss: 0.5983 - val_loss: 1.1742\n",
      "Epoch 158/200\n",
      "60/60 [==============================] - 0s 3ms/step - loss: 0.5743 - val_loss: 1.1773\n",
      "Epoch 159/200\n",
      "60/60 [==============================] - 0s 3ms/step - loss: 0.6129 - val_loss: 1.1870\n",
      "Epoch 160/200\n",
      "60/60 [==============================] - 0s 3ms/step - loss: 0.6157 - val_loss: 1.2188\n",
      "Epoch 161/200\n",
      "60/60 [==============================] - 0s 3ms/step - loss: 0.6066 - val_loss: 1.2025\n",
      "Epoch 162/200\n",
      "60/60 [==============================] - 0s 3ms/step - loss: 0.5998 - val_loss: 1.1958\n",
      "Epoch 163/200\n",
      "60/60 [==============================] - 0s 3ms/step - loss: 0.5982 - val_loss: 1.2243\n",
      "Epoch 164/200\n",
      "60/60 [==============================] - 0s 3ms/step - loss: 0.6025 - val_loss: 1.1892\n",
      "Epoch 165/200\n",
      "60/60 [==============================] - 0s 3ms/step - loss: 0.6097 - val_loss: 1.2076\n",
      "Epoch 166/200\n",
      "60/60 [==============================] - 0s 3ms/step - loss: 0.5831 - val_loss: 1.2200\n",
      "Epoch 167/200\n",
      "60/60 [==============================] - 0s 3ms/step - loss: 0.5806 - val_loss: 1.2247\n",
      "Epoch 168/200\n",
      "60/60 [==============================] - 0s 3ms/step - loss: 0.6101 - val_loss: 1.2116\n",
      "Epoch 169/200\n",
      "60/60 [==============================] - 0s 3ms/step - loss: 0.6007 - val_loss: 1.2008\n",
      "Epoch 170/200\n",
      "60/60 [==============================] - 0s 3ms/step - loss: 0.5771 - val_loss: 1.2145\n",
      "Epoch 171/200\n",
      "60/60 [==============================] - 0s 3ms/step - loss: 0.5933 - val_loss: 1.2416\n",
      "Epoch 172/200\n",
      "60/60 [==============================] - 0s 3ms/step - loss: 0.5887 - val_loss: 1.2115\n",
      "Epoch 173/200\n",
      "60/60 [==============================] - 0s 3ms/step - loss: 0.5892 - val_loss: 1.2172\n",
      "Epoch 174/200\n",
      "60/60 [==============================] - 0s 3ms/step - loss: 0.5877 - val_loss: 1.2260\n",
      "Epoch 175/200\n",
      "60/60 [==============================] - 0s 3ms/step - loss: 0.5728 - val_loss: 1.2306\n",
      "Epoch 176/200\n",
      "60/60 [==============================] - 0s 3ms/step - loss: 0.5968 - val_loss: 1.2217\n",
      "Epoch 177/200\n",
      "60/60 [==============================] - 0s 3ms/step - loss: 0.5590 - val_loss: 1.1986\n",
      "Epoch 178/200\n",
      "60/60 [==============================] - 0s 3ms/step - loss: 0.5601 - val_loss: 1.2261\n",
      "Epoch 179/200\n",
      "60/60 [==============================] - 0s 3ms/step - loss: 0.5705 - val_loss: 1.2425\n",
      "Epoch 180/200\n",
      "60/60 [==============================] - 0s 3ms/step - loss: 0.6009 - val_loss: 1.2657\n",
      "Epoch 181/200\n",
      "60/60 [==============================] - 0s 3ms/step - loss: 0.5839 - val_loss: 1.2209\n",
      "Epoch 182/200\n",
      "60/60 [==============================] - 0s 3ms/step - loss: 0.5974 - val_loss: 1.2151\n",
      "Epoch 183/200\n",
      "60/60 [==============================] - 0s 3ms/step - loss: 0.5784 - val_loss: 1.2300\n",
      "Epoch 184/200\n",
      "60/60 [==============================] - 0s 3ms/step - loss: 0.5546 - val_loss: 1.2528\n",
      "Epoch 185/200\n",
      "60/60 [==============================] - 0s 3ms/step - loss: 0.5741 - val_loss: 1.2319\n",
      "Epoch 186/200\n",
      "60/60 [==============================] - 0s 3ms/step - loss: 0.5593 - val_loss: 1.2367\n",
      "Epoch 187/200\n",
      "60/60 [==============================] - 0s 3ms/step - loss: 0.5943 - val_loss: 1.2507\n",
      "Epoch 188/200\n",
      "60/60 [==============================] - 0s 3ms/step - loss: 0.5699 - val_loss: 1.2362\n",
      "Epoch 189/200\n",
      "60/60 [==============================] - 0s 3ms/step - loss: 0.5997 - val_loss: 1.2722\n",
      "Epoch 190/200\n",
      "60/60 [==============================] - 0s 3ms/step - loss: 0.5649 - val_loss: 1.2426\n",
      "Epoch 191/200\n",
      "60/60 [==============================] - 0s 3ms/step - loss: 0.5642 - val_loss: 1.2577\n",
      "Epoch 192/200\n",
      "60/60 [==============================] - 0s 3ms/step - loss: 0.5734 - val_loss: 1.2658\n",
      "Epoch 193/200\n",
      "60/60 [==============================] - 0s 3ms/step - loss: 0.5696 - val_loss: 1.2502\n",
      "Epoch 194/200\n",
      "60/60 [==============================] - 0s 3ms/step - loss: 0.5792 - val_loss: 1.2468\n",
      "Epoch 195/200\n",
      "60/60 [==============================] - 0s 3ms/step - loss: 0.5648 - val_loss: 1.2330\n",
      "Epoch 196/200\n",
      "60/60 [==============================] - 0s 3ms/step - loss: 0.5638 - val_loss: 1.2885\n",
      "Epoch 197/200\n",
      "60/60 [==============================] - 0s 3ms/step - loss: 0.5655 - val_loss: 1.2380\n",
      "Epoch 198/200\n",
      "60/60 [==============================] - 0s 3ms/step - loss: 0.5508 - val_loss: 1.2665\n",
      "Epoch 199/200\n",
      "60/60 [==============================] - 0s 3ms/step - loss: 0.5835 - val_loss: 1.2814\n",
      "Epoch 200/200\n",
      "60/60 [==============================] - 0s 3ms/step - loss: 0.5736 - val_loss: 1.2550\n"
     ]
    }
   ],
   "source": [
    "history = model.fit(train_X, train_y, epochs=200, batch_size=32, validation_data=(test_X, test_y))"
   ]
  },
  {
   "cell_type": "code",
   "execution_count": 28,
   "metadata": {},
   "outputs": [
    {
     "name": "stdout",
     "output_type": "stream",
     "text": [
      "20/20 [==============================] - 0s 1ms/step - loss: 1.2550\n"
     ]
    },
    {
     "data": {
      "text/plain": [
       "1.2549561262130737"
      ]
     },
     "execution_count": 28,
     "metadata": {},
     "output_type": "execute_result"
    }
   ],
   "source": [
    "# Evaluate the model on the test data\n",
    "mse = model.evaluate(test_X, test_y)\n",
    "mse"
   ]
  },
  {
   "cell_type": "markdown",
   "metadata": {},
   "source": [
    "Note that using wrist as the rel_point gives 0.10, which was a lower loss than using the palm"
   ]
  },
  {
   "cell_type": "code",
   "execution_count": 29,
   "metadata": {},
   "outputs": [
    {
     "data": {
      "image/png": "[encoded data removed]",
      "text/plain": [
       "<Figure size 432x288 with 1 Axes>"
      ]
     },
     "metadata": {
      "needs_background": "light"
     },
     "output_type": "display_data"
    }
   ],
   "source": [
    "# summarize history for loss\n",
    "%matplotlib inline\n",
    "plt.plot(history.history['loss'])\n",
    "plt.plot(history.history['val_loss'])\n",
    "plt.title('model MSE')\n",
    "plt.ylabel('mae')\n",
    "plt.xlabel('epoch')\n",
    "plt.legend(['train', 'test'], loc='upper left')\n",
    "plt.show()"
   ]
  },
  {
   "cell_type": "code",
   "execution_count": 30,
   "metadata": {},
   "outputs": [
    {
     "name": "stdout",
     "output_type": "stream",
     "text": [
      "[[ 1.0791408   0.807575    1.4666706   1.4773332   1.0840439 ]\n",
      " [-0.4577108  -0.70344603 -0.56625587 -0.3083717  -0.08303586]\n",
      " [ 0.6130543   0.98156846  0.8125353   0.26982483  0.37835008]\n",
      " ...\n",
      " [-0.78212154 -0.31595355 -0.58247    -0.42519993 -0.28015485]\n",
      " [ 0.18004332 -1.0253656  -0.2608794   0.14339536  0.5332544 ]\n",
      " [ 1.4053464   1.3472717   1.6541389   0.99221     1.2689172 ]]\n",
      "MSE:  57106.201236975576\n",
      "RMSE:  238.96903823921537\n",
      "MAE:  185.1247947862767\n"
     ]
    }
   ],
   "source": [
    "prediction = model.predict(train_X) # scaled inputs here\n",
    "print(prediction)\n",
    "\n",
    "# Scaling back the prediction\n",
    "preds = rel_hand_scaler.inverse_transform(prediction)\n",
    "# Scaling back the goals\n",
    "goal = rel_hand_scaler.inverse_transform(train_y)\n",
    "\n",
    "MSE = mean_squared_error(goal, preds)  # first 2 steps, combined\n",
    "print(\"MSE: \", MSE)\n",
    "print(\"RMSE: \", np.sqrt(MSE))  # 3rd step\n",
    "MAE = mean_absolute_error(goal, preds)\n",
    "print(\"MAE: \", MAE)"
   ]
  },
  {
   "cell_type": "code",
   "execution_count": 31,
   "metadata": {},
   "outputs": [
    {
     "name": "stdout",
     "output_type": "stream",
     "text": [
      "[[ 0.2625555  -0.06977025  0.413045    0.68646103  0.8535428 ]\n",
      " [ 1.771627    1.5206892   2.0707886   1.7959018   2.11632   ]\n",
      " [-0.15629347  0.0383407  -0.1082921  -0.44533032 -0.74748486]\n",
      " ...\n",
      " [-0.1875254   0.01076347 -0.44819444 -0.6381585  -0.8680801 ]\n",
      " [ 0.93655425  0.501564    0.7255164   0.458479    0.11077188]\n",
      " [-0.49356747 -0.39159507 -0.46738178 -0.45543778 -0.3262597 ]]\n",
      "MSE:  128622.448735649\n",
      "RMSE:  358.63971996371095\n",
      "MAE:  281.0463786960173\n"
     ]
    }
   ],
   "source": [
    "prediction = model.predict(test_X) # scaled inputs here\n",
    "print(prediction)\n",
    "\n",
    "# Scaling back the prediction\n",
    "preds = rel_hand_scaler.inverse_transform(prediction)\n",
    "# Scaling back the goals\n",
    "goal = rel_hand_scaler.inverse_transform(test_y)\n",
    "\n",
    "MSE = mean_squared_error(goal, preds)  # first 2 steps, combined\n",
    "print(\"MSE: \", MSE)\n",
    "print(\"RMSE: \", np.sqrt(MSE))  # 3rd step\n",
    "MAE = mean_absolute_error(goal, preds)\n",
    "print(\"MAE: \", MAE)"
   ]
  },
  {
   "cell_type": "code",
   "execution_count": 32,
   "metadata": {},
   "outputs": [
    {
     "name": "stdout",
     "output_type": "stream",
     "text": [
      "('You must install pydot (`pip install pydot`) and install graphviz (see instructions at https://graphviz.gitlab.io/download/) ', 'for plot_model/model_to_dot to work.')\n"
     ]
    }
   ],
   "source": [
    "from keras.utils.vis_utils import plot_model\n",
    "\n",
    "plot_model(model, show_shapes=True, show_layer_names=True)"
   ]
  },
  {
   "cell_type": "markdown",
   "metadata": {},
   "source": [
    "# Plot the predicted vs ground truth"
   ]
  },
  {
   "cell_type": "markdown",
   "metadata": {},
   "source": [
    "### Save the model and the scalers"
   ]
  },
  {
   "cell_type": "code",
   "execution_count": 31,
   "metadata": {},
   "outputs": [
    {
     "data": {
      "text/plain": [
       "['../models/NNRel-60secs-FULL-StanScaled-EMG.gz']"
      ]
     },
     "execution_count": 31,
     "metadata": {},
     "output_type": "execute_result"
    }
   ],
   "source": [
    "import joblib\n",
    "\n",
    "model_name = \"NNRel-60secs-FULL-StanScaled\"\n",
    "\n",
    "model.save(f\"../models/{model_name}.h5\")\n",
    "# Save hand scaler to file.\n",
    "# Scales the output of the network, the relative position of the hand, min_max\n",
    "joblib.dump(rel_hand_scaler, f'../models/{model_name}-Hand.gz')\n",
    "\n",
    "# Scales the input to the network, the emg data. \n",
    "joblib.dump(emg_scaler, f'../models/{model_name}-EMG.gz')"
   ]
  },
  {
   "cell_type": "code",
   "execution_count": 32,
   "metadata": {},
   "outputs": [],
   "source": [
    "# Making a prediction in the prediction script.\n",
    "from keras.models import load_model\n",
    "model = load_model(f\"../models/{model_name}.h5\")\n",
    "\n",
    "input_scaler = joblib.load(f'../models/{model_name}-EMG.gz')\n",
    "output_scaler = joblib.load(f'../models/{model_name}-Hand.gz')\n",
    "\n",
    "# Get some input data\n",
    "semg_input = np.array([[ 31, 140, 140,  83,  42,  30,  22,  21]])\n",
    "# Scale the input\n",
    "scaled_input = input_scaler.transform(semg_input)\n",
    "# Get a prediction\n",
    "pred = model.predict(scaled_input)\n",
    "# Scale it back to a value\n",
    "scaled_pred = output_scaler.inverse_transform(pred)\n",
    "scaled_pred\n",
    "# Five finger, 4 joints + palm, wrist. x,y,z\n",
    "NUM_POINTS = (5 * 4 + 2) * 3\n",
    "pred_points = scaled_pred.reshape((3, NUM_POINTS//3))"
   ]
  },
  {
   "cell_type": "code",
   "execution_count": 33,
   "metadata": {},
   "outputs": [
    {
     "data": {
      "image/png": "[encoded data removed]",
      "text/plain": [
       "<Figure size 432x288 with 1 Axes>"
      ]
     },
     "metadata": {
      "needs_background": "light"
     },
     "output_type": "display_data"
    }
   ],
   "source": [
    "# Plotting pred points\n",
    "%matplotlib inline\n",
    "fig = plt.figure()\n",
    "ax = fig.add_subplot(111, projection='3d', xlim=(-200, 200), ylim=(-200, 150), zlim=(-100, 300))\n",
    "ax.view_init(elev=45., azim=122)\n",
    "\n",
    "points_ = np.zeros((3, NUM_POINTS))\n",
    "sizes = [10]*(NUM_POINTS//3)\n",
    "sizes[0] = 30\n",
    "patches = ax.scatter(points_[0], points_[1], points_[2], s=10, alpha=1)\n",
    "\n",
    "plot_points(pred_points, patches)\n",
    "plot_bone_lines(pred_points, ax)"
   ]
  },
  {
   "cell_type": "code",
   "execution_count": 34,
   "metadata": {},
   "outputs": [
    {
     "name": "stdout",
     "output_type": "stream",
     "text": [
      "[[-4.5049565e-06  1.3522451e-01  1.9394498e-01 ...  4.3251178e-01\n",
      "   4.6078485e-01  4.7190204e-01]\n",
      " [-8.7510090e-04 -7.1135086e-01 -6.2075865e-01 ... -3.4064233e+00\n",
      "  -3.3668852e+00 -3.1552842e+00]\n",
      " [-6.1699393e-05 -1.3594567e+00 -1.3763057e+00 ... -5.9100866e-02\n",
      "  -4.8829131e-03  7.9832748e-03]\n",
      " ...\n",
      " [-5.8942282e-04  4.3737227e-01  4.4054431e-01 ...  8.8437259e-02\n",
      "   4.2439986e-02  6.5242447e-02]\n",
      " [-5.8826065e-04  1.6924892e-01  1.9087942e-01 ...  2.6290509e-01\n",
      "   2.7017626e-01  2.5774345e-01]\n",
      " [-6.7539624e-04 -6.0026234e-01 -6.1047447e-01 ... -5.8251113e-01\n",
      "  -6.5339762e-01 -7.0003843e-01]]\n",
      "MSE:  35.71878606050352\n",
      "RMSE:  5.976519560789835\n",
      "MAE:  3.439322011276025\n"
     ]
    }
   ],
   "source": [
    "prediction = model.predict(test_X) # scaled inputs here\n",
    "print(prediction)\n",
    "\n",
    "# Scaling back the prediction\n",
    "preds = rel_hand_scaler.inverse_transform(prediction)\n",
    "# Scaling back the goals\n",
    "goal = rel_hand_scaler.inverse_transform(test_y)\n",
    "\n",
    "MSE = mean_squared_error(goal, preds)  # first 2 steps, combined\n",
    "print(\"MSE: \", MSE)\n",
    "print(\"RMSE: \", np.sqrt(MSE))  # 3rd step\n",
    "MAE = mean_absolute_error(goal, preds)\n",
    "print(\"MAE: \", MAE)"
   ]
  },
  {
   "cell_type": "markdown",
   "metadata": {},
   "source": [
    "Calculating error per feature, e.g. thumb error"
   ]
  },
  {
   "cell_type": "code",
   "execution_count": 68,
   "metadata": {},
   "outputs": [
    {
     "data": {
      "text/plain": [
       "66"
      ]
     },
     "execution_count": 68,
     "metadata": {},
     "output_type": "execute_result"
    }
   ],
   "source": [
    "leap_bone_columns = [\n",
    "    \"Palm_x\", \"Palm_y\", \"Palm_z\",\n",
    "    \"Wrist_x\", \"Wrist_y\", \"Wrist_z\",\n",
    "    'Thumb_MCP_x', 'Thumb_MCP_y', 'Thumb_MCP_z',\n",
    "    'Thumb_PIP_x', 'Thumb_PIP_y', 'Thumb_PIP_z',\n",
    "    'Thumb_DIP_x', 'Thumb_DIP_y', 'Thumb_DIP_z',\n",
    "    'Thumb_TIP_x', 'Thumb_TIP_y', 'Thumb_TIP_z',\n",
    "    'Index_MCP_x', 'Index_MCP_y', 'Index_MCP_z',\n",
    "    'Index_PIP_x', 'Index_PIP_y', 'Index_PIP_z',\n",
    "    'Index_DIP_x', 'Index_DIP_y', 'Index_DIP_z',\n",
    "    'Index_TIP_x', 'Index_TIP_y', 'Index_TIP_z',\n",
    "    'Middle_MCP_x', 'Middle_MCP_y', 'Middle_MCP_z',\n",
    "    'Middle_PIP_x', 'Middle_PIP_y', 'Middle_PIP_z',\n",
    "    'Middle_DIP_x', 'Middle_DIP_y', 'Middle_DIP_z',\n",
    "    'Middle_TIP_x', 'Middle_TIP_y', 'Middle_TIP_z',\n",
    "    'Ring_MCP_x', 'Ring_MCP_y', 'Ring_MCP_z',\n",
    "    'Ring_PIP_x', 'Ring_PIP_y', 'Ring_PIP_z',\n",
    "    'Ring_DIP_x', 'Ring_DIP_y', 'Ring_DIP_z',\n",
    "    'Ring_TIP_x', 'Ring_TIP_y', 'Ring_TIP_z',\n",
    "    'Pinky_MCP_x', 'Pinky_MCP_y', 'Pinky_MCP_z',\n",
    "    'Pinky_PIP_x', 'Pinky_PIP_y', 'Pinky_PIP_z',\n",
    "    'Pinky_DIP_x', 'Pinky_DIP_y', 'Pinky_DIP_z',\n",
    "    'Pinky_TIP_x', 'Pinky_TIP_y', 'Pinky_TIP_z'\n",
    "    ]\n",
    "len(leap_bone_columns)"
   ]
  },
  {
   "cell_type": "code",
   "execution_count": 67,
   "metadata": {},
   "outputs": [
    {
     "data": {
      "text/plain": [
       "1.0875626856435817e-05"
      ]
     },
     "execution_count": 67,
     "metadata": {},
     "output_type": "execute_result"
    }
   ],
   "source": [
    "pred_points = preds.reshape(740, 3, 66//3)\n",
    "goal_points = goal.reshape(740, 3, 66//3)\n",
    "\n",
    "palm_preds = pred_points[:,:,0]\n",
    "palm_goals = goal_points[:,:,0]\n",
    "\n",
    "palm_mse = mean_squared_error(palm_goals, palm_preds)\n",
    "palm_mse"
   ]
  },
  {
   "cell_type": "code",
   "execution_count": 70,
   "metadata": {},
   "outputs": [
    {
     "data": {
      "text/plain": [
       "10.780200176246254"
      ]
     },
     "execution_count": 70,
     "metadata": {},
     "output_type": "execute_result"
    }
   ],
   "source": [
    "wrist_preds = pred_points[:,:,1]\n",
    "wrist_goals = goal_points[:,:,1]\n",
    "\n",
    "wrist_mse = mean_squared_error(wrist_goals, wrist_preds)\n",
    "wrist_mse"
   ]
  },
  {
   "cell_type": "code",
   "execution_count": 72,
   "metadata": {},
   "outputs": [
    {
     "data": {
      "text/plain": [
       "15.271220099048984"
      ]
     },
     "execution_count": 72,
     "metadata": {},
     "output_type": "execute_result"
    }
   ],
   "source": [
    "thumb_mcp_preds = pred_points[:,:,2]\n",
    "thumb_mcp_goals = goal_points[:,:,2]\n",
    "\n",
    "thumb_mcp_mse = mean_squared_error(thumb_mcp_goals, thumb_mcp_preds)\n",
    "thumb_mcp_mse"
   ]
  },
  {
   "cell_type": "code",
   "execution_count": 82,
   "metadata": {},
   "outputs": [
    {
     "data": {
      "text/plain": [
       "['Palm',\n",
       " 'Wrist',\n",
       " 'Thumb metacarpals',\n",
       " 'Thumb proximal',\n",
       " 'Thumb intermediate',\n",
       " 'Thumb distal',\n",
       " 'Index metacarpals',\n",
       " 'Index proximal',\n",
       " 'Index intermediate',\n",
       " 'Index distal',\n",
       " 'Middle metacarpals',\n",
       " 'Middle proximal',\n",
       " 'Middle intermediate',\n",
       " 'Middle distal',\n",
       " 'Ring metacarpals',\n",
       " 'Ring proximal',\n",
       " 'Ring intermediate',\n",
       " 'Ring distal',\n",
       " 'Pinky metacarpals',\n",
       " 'Pinky proximal',\n",
       " 'Pinky intermediate',\n",
       " 'Pinky distal']"
      ]
     },
     "execution_count": 82,
     "metadata": {},
     "output_type": "execute_result"
    }
   ],
   "source": [
    "finger_bones = ['metacarpals', 'proximal', 'intermediate', 'distal']\n",
    "finger_names = ['Thumb', 'Index', 'Middle', 'Ring', 'Pinky']\n",
    "\n",
    "feats = [\"Palm\", \"Wrist\"]\n",
    "\n",
    "for finger in finger_names:\n",
    "    for bone in finger_bones:\n",
    "        feats.append(finger +\" \"+ bone)\n",
    "feats"
   ]
  },
  {
   "cell_type": "code",
   "execution_count": 83,
   "metadata": {},
   "outputs": [
    {
     "data": {
      "text/plain": [
       "22"
      ]
     },
     "execution_count": 83,
     "metadata": {},
     "output_type": "execute_result"
    }
   ],
   "source": [
    "len(feats)"
   ]
  },
  {
   "cell_type": "code",
   "execution_count": 89,
   "metadata": {},
   "outputs": [
    {
     "data": {
      "text/plain": [
       "[1.0875626856435817e-05,\n",
       " 10.780200176246254,\n",
       " 15.271220099048984,\n",
       " 13.474320214318661,\n",
       " 43.57190112791636,\n",
       " 142.88942798792496,\n",
       " 1.9141685989018764,\n",
       " 15.071569206153882,\n",
       " 53.241825897697105,\n",
       " 109.33711284476733,\n",
       " 2.4219607307248814,\n",
       " 22.344041516661893,\n",
       " 63.56812722527263,\n",
       " 109.2310144000312,\n",
       " 2.2854127839554192,\n",
       " 17.02203522225584,\n",
       " 46.16859129356427,\n",
       " 80.04057736979594,\n",
       " 2.1496048228916673,\n",
       " 21.51625757334149,\n",
       " 55.708007723929164,\n",
       " 103.681708451581]"
      ]
     },
     "execution_count": 89,
     "metadata": {},
     "output_type": "execute_result"
    }
   ],
   "source": [
    "errs = []\n",
    "for i in range(len(feats)):\n",
    "    feat_preds = pred_points[:,:,i]\n",
    "    feat_goals = goal_points[:,:,i]\n",
    "\n",
    "    feat_mse = mean_squared_error(feat_goals, feat_preds)\n",
    "    errs.append(feat_mse)\n",
    "errs"
   ]
  },
  {
   "cell_type": "code",
   "execution_count": 98,
   "metadata": {},
   "outputs": [
    {
     "data": {
      "text/plain": [
       "<BarContainer object of 22 artists>"
      ]
     },
     "execution_count": 98,
     "metadata": {},
     "output_type": "execute_result"
    },
    {
     "data": {
      "image/png": "[encoded data removed]",
      "text/plain": [
       "<Figure size 432x288 with 1 Axes>"
      ]
     },
     "metadata": {
      "needs_background": "light"
     },
     "output_type": "display_data"
    }
   ],
   "source": [
    "plt.xticks(rotation='vertical')\n",
    "plt.bar(range(len(errs)),errs,tick_label=feats)"
   ]
  },
  {
   "cell_type": "code",
   "execution_count": 113,
   "metadata": {},
   "outputs": [
    {
     "data": {
      "text/plain": [
       "Text(0, 0.5, 'RMSE (mm)')"
      ]
     },
     "execution_count": 113,
     "metadata": {},
     "output_type": "execute_result"
    },
    {
     "data": {
      "image/png": "[encoded data removed]",
      "text/plain": [
       "<Figure size 1080x576 with 1 Axes>"
      ]
     },
     "metadata": {
      "needs_background": "light"
     },
     "output_type": "display_data"
    }
   ],
   "source": [
    "finger_bones = ['metacarpals', 'proximal', 'intermediate', 'distal']\n",
    "finger_names = ['Thumb', 'Index', 'Middle', 'Ring', 'Pinky']\n",
    "\n",
    "feats = [\"Palm\", \"Wrist\"]\n",
    "\n",
    "for finger in finger_names:\n",
    "    for bone in finger_bones:\n",
    "        feats.append(finger +\" \"+ bone)\n",
    "# Calculating the error for each feature\n",
    "errs = []\n",
    "for i in range(len(feats)):\n",
    "    feat_preds = pred_points[:,:,i]\n",
    "    feat_goals = goal_points[:,:,i]\n",
    "\n",
    "    feat_mse = mean_squared_error(feat_goals, feat_preds)**0.5\n",
    "    errs.append(feat_mse)\n",
    "# Plotting\n",
    "plt.figure(figsize=(15,8))\n",
    "plt.xticks(rotation='vertical')\n",
    "c =['black', 'red', 'green', 'blue', 'cyan']\n",
    "fig = plt.bar(range(len(errs)),errs,tick_label=feats,color=c)\n",
    "plt.title(\"Mean Squared Error of Test set\")\n",
    "plt.ylabel(\"RMSE (mm)\")"
   ]
  },
  {
   "cell_type": "code",
   "execution_count": 127,
   "metadata": {},
   "outputs": [
    {
     "data": {
      "text/plain": [
       "Text(0, 0.5, 'RMSE (mm)')"
      ]
     },
     "execution_count": 127,
     "metadata": {},
     "output_type": "execute_result"
    },
    {
     "data": {
      "image/png": "[encoded data removed]",
      "text/plain": [
       "<Figure size 1080x576 with 1 Axes>"
      ]
     },
     "metadata": {
      "needs_background": "light"
     },
     "output_type": "display_data"
    }
   ],
   "source": [
    "plt.figure(figsize=(15,8))\n",
    "plt.xticks(rotation='vertical')\n",
    "ax = sns.barplot(x=feats,y=errs)\n",
    "plt.title(\"Mean Squared Error of Test set\")\n",
    "plt.ylabel(\"RMSE (mm)\")"
   ]
  },
  {
   "cell_type": "markdown",
   "metadata": {},
   "source": [
    "# PCA on Y"
   ]
  },
  {
   "cell_type": "code",
   "execution_count": 36,
   "metadata": {},
   "outputs": [],
   "source": [
    "from sklearn.decomposition import PCA"
   ]
  },
  {
   "cell_type": "code",
   "execution_count": 42,
   "metadata": {},
   "outputs": [],
   "source": [
    "leap_df = y.values.astype(float)\n",
    "\n",
    "Y_scaled = StandardScaler().fit_transform(leap_df)\n",
    "\n",
    "\n",
    "pca = PCA()\n",
    "principal_components = pca.fit_transform(Y_scaled)"
   ]
  },
  {
   "cell_type": "code",
   "execution_count": 51,
   "metadata": {},
   "outputs": [
    {
     "data": {
      "text/plain": [
       "array([0.328, 0.504, 0.645, 0.739, 0.803, 0.852, 0.897, 0.928, 0.952,\n",
       "       0.965, 0.975, 0.981, 0.985, 0.988, 0.991, 0.993, 0.994, 0.995,\n",
       "       0.996, 0.997, 0.997, 0.998, 0.998, 0.999, 0.999, 0.999, 0.999,\n",
       "       1.   , 1.   , 1.   , 1.   , 1.   , 1.   , 1.   , 1.   , 1.   ,\n",
       "       1.   , 1.   , 1.   , 1.   , 1.   , 1.   , 1.   , 1.   , 1.   ,\n",
       "       1.   , 1.   , 1.   , 1.   , 1.   , 1.   , 1.   , 1.   , 1.   ,\n",
       "       1.   , 1.   , 1.   , 1.   , 1.   , 1.   , 1.   , 1.   , 1.   ,\n",
       "       1.   , 1.   , 1.   ])"
      ]
     },
     "execution_count": 51,
     "metadata": {},
     "output_type": "execute_result"
    }
   ],
   "source": [
    "explained_var = np.round(np.cumsum(pca.explained_variance_ratio_), decimals=3)\n",
    "explained_var"
   ]
  },
  {
   "cell_type": "code",
   "execution_count": 52,
   "metadata": {},
   "outputs": [
    {
     "data": {
      "text/plain": [
       "0.952"
      ]
     },
     "execution_count": 52,
     "metadata": {},
     "output_type": "execute_result"
    }
   ],
   "source": [
    "explained_var[8]"
   ]
  },
  {
   "cell_type": "code",
   "execution_count": null,
   "metadata": {},
   "outputs": [],
   "source": [
    "# Make an instance of the Model that retains 95% of the variance\n",
    "pca = PCA(.95)\n",
    "\n"
   ]
  }
 ],
 "metadata": {
  "kernelspec": {
   "display_name": "Python 3",
   "language": "python",
   "name": "python3"
  },
  "language_info": {
   "codemirror_mode": {
    "name": "ipython",
    "version": 3
   },
   "file_extension": ".py",
   "mimetype": "text/x-python",
   "name": "python",
   "nbconvert_exporter": "python",
   "pygments_lexer": "ipython3",
   "version": "3.8.5"
  }
 },
 "nbformat": 4,
 "nbformat_minor": 4
}
